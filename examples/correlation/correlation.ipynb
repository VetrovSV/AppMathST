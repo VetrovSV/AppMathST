{
 "cells": [
  {
   "cell_type": "markdown",
   "metadata": {},
   "source": [
    "# Корреляция"
   ]
  },
  {
   "cell_type": "code",
   "execution_count": 1,
   "metadata": {},
   "outputs": [],
   "source": [
    "# раскомментирвоть (убрать символ #) строки ниже для установки модулей в mybinder.org\n",
    "#!pip install scipy\n",
    "#!pip install seaborn\n",
    "#!pip install pandas"
   ]
  },
  {
   "cell_type": "code",
   "execution_count": 2,
   "metadata": {},
   "outputs": [],
   "source": [
    "import pandas as pd     # для загрузки и хранения данных в таблице (DataFrame)\n",
    "import seaborn          # для построения графиков\n",
    "from matplotlib.pyplot import *   # для построения графиков\n",
    "\n",
    "from scipy.stats import linregress, pearsonr, normaltest  # для построения уравнения регрессии\n",
    "import numpy as np"
   ]
  },
  {
   "cell_type": "markdown",
   "metadata": {},
   "source": [
    "## Пример 1\n",
    "Поглощение звука материалами в зависимости от их свойств (толщина, масса, жесткость и др.)\n",
    "\n",
    "Источник данных: \n",
    "http://users.stat.ufl.edu/~winner/datasets.html\n",
    "\n",
    "\n",
    "Описание данных:\n",
    "\n",
    "Description: Acoustic absorption coefficients of 24 woven fabrics\n",
    "with different air gap distances (d=0,1,2,3,cm)\n",
    "\n",
    "Responses: \n",
    "\n",
    "- acoustic0  (d=0 cm)\n",
    "- acoustic1\n",
    "- acoustic2\n",
    "- acoustic3\n",
    "\n",
    "\n",
    "Predictors:\n",
    "\n",
    "- thickness   (mm)\n",
    "- diameter    (mm)\n",
    "- perforation (%)\n",
    "- weight      (g/m^2)\n",
    "- stiffness   (mN x cm)\n",
    "- airPerm     (air permeability, mm/s) "
   ]
  },
  {
   "cell_type": "code",
   "execution_count": 3,
   "metadata": {},
   "outputs": [],
   "source": [
    "# загрузка данных из файла fabricsoundabsorb.csv \n",
    "# это текстовый файл с данными расположеными в столбцах\n",
    "# header = 0 - заголовок для столбцов это нелувая (персвая посчёту строка)\n",
    "# comment='#' решеткой в начале строки помечаны дополнительная, справочная, информация\n",
    "# в файле, они будут проигнорированы при загрузке.\n",
    "\n",
    "# Примечание для выполнения работ.\n",
    "# данные для вариантов находятся в папке task2/data\n",
    "# эти файлы достыпны по ссылке: \"../../task2/data/data1-v0.csv\" \n",
    "# (после v подставить номер своего варианта)\n",
    "\n",
    "# data = pd.read_csv(\"fabricsoundabsorb.csv\", comment='#', header=0)\n",
    "data = pd.read_csv(\"../../task2/data/data1-v0.csv\", comment='#', header=0)\n",
    "\n",
    "# данные будут загружены в переменную data"
   ]
  },
  {
   "cell_type": "code",
   "execution_count": 4,
   "metadata": {},
   "outputs": [],
   "source": [
    "# В mybinder.org файлы могут быть недоступны,\n",
    "# тогда записать данные в переменную data можно скопировав их из файла.\n",
    "\n",
    "\n",
    "# ниже приведён пример записи данных в переменную\n",
    "# все данные записываются в квадратных скобках, \n",
    "# каждая строчка из файла (нужно отключить перенос строк при показе) ещё в одних в квадратных скобках\n",
    "# нужно раскомментировать (убрать символ #) стрОки ниже, чтобы программа выполнилась\n",
    "\n",
    "# d = [ [1213, 21241, 31412, 41242],\n",
    "#       [623,  14324, 231,   12123]]\n",
    " \n",
    "# data = pd.DataFrame( d )"
   ]
  },
  {
   "cell_type": "code",
   "execution_count": 5,
   "metadata": {},
   "outputs": [
    {
     "data": {
      "text/html": [
       "<div>\n",
       "<style scoped>\n",
       "    .dataframe tbody tr th:only-of-type {\n",
       "        vertical-align: middle;\n",
       "    }\n",
       "\n",
       "    .dataframe tbody tr th {\n",
       "        vertical-align: top;\n",
       "    }\n",
       "\n",
       "    .dataframe thead th {\n",
       "        text-align: right;\n",
       "    }\n",
       "</style>\n",
       "<table border=\"1\" class=\"dataframe\">\n",
       "  <thead>\n",
       "    <tr style=\"text-align: right;\">\n",
       "      <th></th>\n",
       "      <th>Unnamed: 0</th>\n",
       "      <th>var0</th>\n",
       "      <th>var1</th>\n",
       "      <th>var2</th>\n",
       "      <th>var3</th>\n",
       "      <th>var4</th>\n",
       "      <th>var5</th>\n",
       "    </tr>\n",
       "  </thead>\n",
       "  <tbody>\n",
       "    <tr>\n",
       "      <th>0</th>\n",
       "      <td>0</td>\n",
       "      <td>-38.950232</td>\n",
       "      <td>40.910445</td>\n",
       "      <td>11.708872</td>\n",
       "      <td>32.375613</td>\n",
       "      <td>-45.139528</td>\n",
       "      <td>-36.448874</td>\n",
       "    </tr>\n",
       "    <tr>\n",
       "      <th>1</th>\n",
       "      <td>1</td>\n",
       "      <td>-42.514483</td>\n",
       "      <td>42.268866</td>\n",
       "      <td>-6.690043</td>\n",
       "      <td>27.162719</td>\n",
       "      <td>-42.376453</td>\n",
       "      <td>-36.623828</td>\n",
       "    </tr>\n",
       "    <tr>\n",
       "      <th>2</th>\n",
       "      <td>2</td>\n",
       "      <td>-40.321773</td>\n",
       "      <td>46.502823</td>\n",
       "      <td>17.413483</td>\n",
       "      <td>28.343640</td>\n",
       "      <td>-30.050097</td>\n",
       "      <td>-32.942213</td>\n",
       "    </tr>\n",
       "    <tr>\n",
       "      <th>3</th>\n",
       "      <td>3</td>\n",
       "      <td>-42.332766</td>\n",
       "      <td>46.251360</td>\n",
       "      <td>9.414176</td>\n",
       "      <td>14.432018</td>\n",
       "      <td>-39.959943</td>\n",
       "      <td>-41.076794</td>\n",
       "    </tr>\n",
       "    <tr>\n",
       "      <th>4</th>\n",
       "      <td>4</td>\n",
       "      <td>-40.162429</td>\n",
       "      <td>42.318728</td>\n",
       "      <td>21.403761</td>\n",
       "      <td>24.338764</td>\n",
       "      <td>-25.673873</td>\n",
       "      <td>-37.863466</td>\n",
       "    </tr>\n",
       "    <tr>\n",
       "      <th>5</th>\n",
       "      <td>5</td>\n",
       "      <td>-41.428586</td>\n",
       "      <td>33.266302</td>\n",
       "      <td>19.359881</td>\n",
       "      <td>28.579866</td>\n",
       "      <td>-31.654909</td>\n",
       "      <td>-38.969574</td>\n",
       "    </tr>\n",
       "    <tr>\n",
       "      <th>6</th>\n",
       "      <td>6</td>\n",
       "      <td>-41.967747</td>\n",
       "      <td>43.845425</td>\n",
       "      <td>3.908288</td>\n",
       "      <td>24.948509</td>\n",
       "      <td>-37.983455</td>\n",
       "      <td>-38.502725</td>\n",
       "    </tr>\n",
       "    <tr>\n",
       "      <th>7</th>\n",
       "      <td>7</td>\n",
       "      <td>-37.476525</td>\n",
       "      <td>44.835091</td>\n",
       "      <td>5.122090</td>\n",
       "      <td>34.949172</td>\n",
       "      <td>-28.077212</td>\n",
       "      <td>-33.557349</td>\n",
       "    </tr>\n",
       "    <tr>\n",
       "      <th>8</th>\n",
       "      <td>8</td>\n",
       "      <td>-33.824569</td>\n",
       "      <td>37.374834</td>\n",
       "      <td>8.092510</td>\n",
       "      <td>20.245029</td>\n",
       "      <td>-26.377389</td>\n",
       "      <td>-32.724306</td>\n",
       "    </tr>\n",
       "    <tr>\n",
       "      <th>9</th>\n",
       "      <td>9</td>\n",
       "      <td>-34.545885</td>\n",
       "      <td>40.518092</td>\n",
       "      <td>22.914841</td>\n",
       "      <td>14.084034</td>\n",
       "      <td>-26.756516</td>\n",
       "      <td>-27.833670</td>\n",
       "    </tr>\n",
       "    <tr>\n",
       "      <th>10</th>\n",
       "      <td>10</td>\n",
       "      <td>-38.552683</td>\n",
       "      <td>41.811682</td>\n",
       "      <td>14.932931</td>\n",
       "      <td>22.426515</td>\n",
       "      <td>-24.361090</td>\n",
       "      <td>-32.190582</td>\n",
       "    </tr>\n",
       "    <tr>\n",
       "      <th>11</th>\n",
       "      <td>11</td>\n",
       "      <td>-43.314640</td>\n",
       "      <td>42.572842</td>\n",
       "      <td>4.793729</td>\n",
       "      <td>22.238207</td>\n",
       "      <td>-27.471639</td>\n",
       "      <td>-40.398703</td>\n",
       "    </tr>\n",
       "    <tr>\n",
       "      <th>12</th>\n",
       "      <td>12</td>\n",
       "      <td>-37.078123</td>\n",
       "      <td>45.843226</td>\n",
       "      <td>7.698196</td>\n",
       "      <td>26.163340</td>\n",
       "      <td>-42.677539</td>\n",
       "      <td>-34.339181</td>\n",
       "    </tr>\n",
       "    <tr>\n",
       "      <th>13</th>\n",
       "      <td>13</td>\n",
       "      <td>-35.014010</td>\n",
       "      <td>45.379847</td>\n",
       "      <td>0.739195</td>\n",
       "      <td>20.535675</td>\n",
       "      <td>-41.170633</td>\n",
       "      <td>-27.051939</td>\n",
       "    </tr>\n",
       "    <tr>\n",
       "      <th>14</th>\n",
       "      <td>14</td>\n",
       "      <td>-42.431336</td>\n",
       "      <td>44.800840</td>\n",
       "      <td>22.238046</td>\n",
       "      <td>27.069588</td>\n",
       "      <td>-31.338367</td>\n",
       "      <td>-40.592681</td>\n",
       "    </tr>\n",
       "    <tr>\n",
       "      <th>15</th>\n",
       "      <td>15</td>\n",
       "      <td>-36.718639</td>\n",
       "      <td>46.286832</td>\n",
       "      <td>15.941823</td>\n",
       "      <td>22.158540</td>\n",
       "      <td>-22.135537</td>\n",
       "      <td>-28.654503</td>\n",
       "    </tr>\n",
       "    <tr>\n",
       "      <th>16</th>\n",
       "      <td>16</td>\n",
       "      <td>-34.698066</td>\n",
       "      <td>39.517707</td>\n",
       "      <td>9.898688</td>\n",
       "      <td>22.260279</td>\n",
       "      <td>-37.147941</td>\n",
       "      <td>-34.625689</td>\n",
       "    </tr>\n",
       "    <tr>\n",
       "      <th>17</th>\n",
       "      <td>17</td>\n",
       "      <td>-37.615622</td>\n",
       "      <td>49.377495</td>\n",
       "      <td>0.917593</td>\n",
       "      <td>20.887873</td>\n",
       "      <td>-22.897100</td>\n",
       "      <td>-36.604430</td>\n",
       "    </tr>\n",
       "    <tr>\n",
       "      <th>18</th>\n",
       "      <td>18</td>\n",
       "      <td>-37.383501</td>\n",
       "      <td>47.229278</td>\n",
       "      <td>16.572213</td>\n",
       "      <td>26.939460</td>\n",
       "      <td>-26.857305</td>\n",
       "      <td>-34.702779</td>\n",
       "    </tr>\n",
       "    <tr>\n",
       "      <th>19</th>\n",
       "      <td>19</td>\n",
       "      <td>-41.982231</td>\n",
       "      <td>37.934334</td>\n",
       "      <td>25.648143</td>\n",
       "      <td>29.457212</td>\n",
       "      <td>-36.632818</td>\n",
       "      <td>-36.031246</td>\n",
       "    </tr>\n",
       "    <tr>\n",
       "      <th>20</th>\n",
       "      <td>20</td>\n",
       "      <td>-42.619150</td>\n",
       "      <td>43.916321</td>\n",
       "      <td>0.087005</td>\n",
       "      <td>30.729829</td>\n",
       "      <td>-28.584819</td>\n",
       "      <td>-36.563141</td>\n",
       "    </tr>\n",
       "    <tr>\n",
       "      <th>21</th>\n",
       "      <td>21</td>\n",
       "      <td>-39.553852</td>\n",
       "      <td>45.279177</td>\n",
       "      <td>18.761758</td>\n",
       "      <td>32.581279</td>\n",
       "      <td>-27.484836</td>\n",
       "      <td>-36.483580</td>\n",
       "    </tr>\n",
       "    <tr>\n",
       "      <th>22</th>\n",
       "      <td>22</td>\n",
       "      <td>-37.805624</td>\n",
       "      <td>41.082274</td>\n",
       "      <td>11.878430</td>\n",
       "      <td>25.658695</td>\n",
       "      <td>-24.000572</td>\n",
       "      <td>-30.190645</td>\n",
       "    </tr>\n",
       "    <tr>\n",
       "      <th>23</th>\n",
       "      <td>23</td>\n",
       "      <td>-34.720635</td>\n",
       "      <td>48.012155</td>\n",
       "      <td>23.474236</td>\n",
       "      <td>26.434635</td>\n",
       "      <td>-28.667301</td>\n",
       "      <td>-29.669312</td>\n",
       "    </tr>\n",
       "    <tr>\n",
       "      <th>24</th>\n",
       "      <td>24</td>\n",
       "      <td>-40.154862</td>\n",
       "      <td>49.918231</td>\n",
       "      <td>5.696905</td>\n",
       "      <td>24.509357</td>\n",
       "      <td>-34.482071</td>\n",
       "      <td>-34.184852</td>\n",
       "    </tr>\n",
       "    <tr>\n",
       "      <th>25</th>\n",
       "      <td>25</td>\n",
       "      <td>-36.850055</td>\n",
       "      <td>44.246238</td>\n",
       "      <td>8.363460</td>\n",
       "      <td>18.567585</td>\n",
       "      <td>-41.996266</td>\n",
       "      <td>-35.931096</td>\n",
       "    </tr>\n",
       "    <tr>\n",
       "      <th>26</th>\n",
       "      <td>26</td>\n",
       "      <td>-37.446603</td>\n",
       "      <td>51.845772</td>\n",
       "      <td>11.624427</td>\n",
       "      <td>20.130565</td>\n",
       "      <td>-30.207042</td>\n",
       "      <td>-30.142993</td>\n",
       "    </tr>\n",
       "    <tr>\n",
       "      <th>27</th>\n",
       "      <td>27</td>\n",
       "      <td>-37.954044</td>\n",
       "      <td>39.615624</td>\n",
       "      <td>3.146517</td>\n",
       "      <td>24.575575</td>\n",
       "      <td>-35.089691</td>\n",
       "      <td>-31.769154</td>\n",
       "    </tr>\n",
       "    <tr>\n",
       "      <th>28</th>\n",
       "      <td>28</td>\n",
       "      <td>-36.883497</td>\n",
       "      <td>35.141209</td>\n",
       "      <td>17.617098</td>\n",
       "      <td>25.997411</td>\n",
       "      <td>-30.804478</td>\n",
       "      <td>-29.342447</td>\n",
       "    </tr>\n",
       "    <tr>\n",
       "      <th>29</th>\n",
       "      <td>29</td>\n",
       "      <td>-42.350574</td>\n",
       "      <td>47.858157</td>\n",
       "      <td>12.343341</td>\n",
       "      <td>18.734747</td>\n",
       "      <td>-32.098773</td>\n",
       "      <td>-38.867696</td>\n",
       "    </tr>\n",
       "    <tr>\n",
       "      <th>30</th>\n",
       "      <td>30</td>\n",
       "      <td>-39.201403</td>\n",
       "      <td>44.713320</td>\n",
       "      <td>4.267016</td>\n",
       "      <td>20.103073</td>\n",
       "      <td>-24.484832</td>\n",
       "      <td>-38.450528</td>\n",
       "    </tr>\n",
       "    <tr>\n",
       "      <th>31</th>\n",
       "      <td>31</td>\n",
       "      <td>-41.345072</td>\n",
       "      <td>36.918671</td>\n",
       "      <td>19.392797</td>\n",
       "      <td>23.529104</td>\n",
       "      <td>-23.293404</td>\n",
       "      <td>-37.624350</td>\n",
       "    </tr>\n",
       "    <tr>\n",
       "      <th>32</th>\n",
       "      <td>32</td>\n",
       "      <td>-39.848402</td>\n",
       "      <td>36.641771</td>\n",
       "      <td>3.037735</td>\n",
       "      <td>28.334278</td>\n",
       "      <td>-36.171187</td>\n",
       "      <td>-39.023240</td>\n",
       "    </tr>\n",
       "    <tr>\n",
       "      <th>33</th>\n",
       "      <td>33</td>\n",
       "      <td>-43.070375</td>\n",
       "      <td>45.828300</td>\n",
       "      <td>4.819732</td>\n",
       "      <td>27.781379</td>\n",
       "      <td>-26.313000</td>\n",
       "      <td>-35.672516</td>\n",
       "    </tr>\n",
       "    <tr>\n",
       "      <th>34</th>\n",
       "      <td>34</td>\n",
       "      <td>-38.289659</td>\n",
       "      <td>41.853131</td>\n",
       "      <td>21.524147</td>\n",
       "      <td>27.786547</td>\n",
       "      <td>-34.017725</td>\n",
       "      <td>-34.432772</td>\n",
       "    </tr>\n",
       "    <tr>\n",
       "      <th>35</th>\n",
       "      <td>35</td>\n",
       "      <td>-35.303773</td>\n",
       "      <td>43.222840</td>\n",
       "      <td>24.122191</td>\n",
       "      <td>17.686974</td>\n",
       "      <td>-38.065404</td>\n",
       "      <td>-29.670518</td>\n",
       "    </tr>\n",
       "    <tr>\n",
       "      <th>36</th>\n",
       "      <td>36</td>\n",
       "      <td>-40.589036</td>\n",
       "      <td>45.167543</td>\n",
       "      <td>10.073226</td>\n",
       "      <td>24.307762</td>\n",
       "      <td>-33.025300</td>\n",
       "      <td>-36.275919</td>\n",
       "    </tr>\n",
       "    <tr>\n",
       "      <th>37</th>\n",
       "      <td>37</td>\n",
       "      <td>-37.303404</td>\n",
       "      <td>42.928662</td>\n",
       "      <td>21.963402</td>\n",
       "      <td>24.895074</td>\n",
       "      <td>-18.150813</td>\n",
       "      <td>-32.699861</td>\n",
       "    </tr>\n",
       "    <tr>\n",
       "      <th>38</th>\n",
       "      <td>38</td>\n",
       "      <td>-36.166852</td>\n",
       "      <td>45.564795</td>\n",
       "      <td>20.334407</td>\n",
       "      <td>24.843234</td>\n",
       "      <td>-25.286906</td>\n",
       "      <td>-30.877075</td>\n",
       "    </tr>\n",
       "    <tr>\n",
       "      <th>39</th>\n",
       "      <td>39</td>\n",
       "      <td>-36.536158</td>\n",
       "      <td>39.490987</td>\n",
       "      <td>15.901017</td>\n",
       "      <td>13.529027</td>\n",
       "      <td>-43.568654</td>\n",
       "      <td>-31.746536</td>\n",
       "    </tr>\n",
       "  </tbody>\n",
       "</table>\n",
       "</div>"
      ],
      "text/plain": [
       "    Unnamed: 0       var0       var1       var2       var3       var4  \\\n",
       "0            0 -38.950232  40.910445  11.708872  32.375613 -45.139528   \n",
       "1            1 -42.514483  42.268866  -6.690043  27.162719 -42.376453   \n",
       "2            2 -40.321773  46.502823  17.413483  28.343640 -30.050097   \n",
       "3            3 -42.332766  46.251360   9.414176  14.432018 -39.959943   \n",
       "4            4 -40.162429  42.318728  21.403761  24.338764 -25.673873   \n",
       "5            5 -41.428586  33.266302  19.359881  28.579866 -31.654909   \n",
       "6            6 -41.967747  43.845425   3.908288  24.948509 -37.983455   \n",
       "7            7 -37.476525  44.835091   5.122090  34.949172 -28.077212   \n",
       "8            8 -33.824569  37.374834   8.092510  20.245029 -26.377389   \n",
       "9            9 -34.545885  40.518092  22.914841  14.084034 -26.756516   \n",
       "10          10 -38.552683  41.811682  14.932931  22.426515 -24.361090   \n",
       "11          11 -43.314640  42.572842   4.793729  22.238207 -27.471639   \n",
       "12          12 -37.078123  45.843226   7.698196  26.163340 -42.677539   \n",
       "13          13 -35.014010  45.379847   0.739195  20.535675 -41.170633   \n",
       "14          14 -42.431336  44.800840  22.238046  27.069588 -31.338367   \n",
       "15          15 -36.718639  46.286832  15.941823  22.158540 -22.135537   \n",
       "16          16 -34.698066  39.517707   9.898688  22.260279 -37.147941   \n",
       "17          17 -37.615622  49.377495   0.917593  20.887873 -22.897100   \n",
       "18          18 -37.383501  47.229278  16.572213  26.939460 -26.857305   \n",
       "19          19 -41.982231  37.934334  25.648143  29.457212 -36.632818   \n",
       "20          20 -42.619150  43.916321   0.087005  30.729829 -28.584819   \n",
       "21          21 -39.553852  45.279177  18.761758  32.581279 -27.484836   \n",
       "22          22 -37.805624  41.082274  11.878430  25.658695 -24.000572   \n",
       "23          23 -34.720635  48.012155  23.474236  26.434635 -28.667301   \n",
       "24          24 -40.154862  49.918231   5.696905  24.509357 -34.482071   \n",
       "25          25 -36.850055  44.246238   8.363460  18.567585 -41.996266   \n",
       "26          26 -37.446603  51.845772  11.624427  20.130565 -30.207042   \n",
       "27          27 -37.954044  39.615624   3.146517  24.575575 -35.089691   \n",
       "28          28 -36.883497  35.141209  17.617098  25.997411 -30.804478   \n",
       "29          29 -42.350574  47.858157  12.343341  18.734747 -32.098773   \n",
       "30          30 -39.201403  44.713320   4.267016  20.103073 -24.484832   \n",
       "31          31 -41.345072  36.918671  19.392797  23.529104 -23.293404   \n",
       "32          32 -39.848402  36.641771   3.037735  28.334278 -36.171187   \n",
       "33          33 -43.070375  45.828300   4.819732  27.781379 -26.313000   \n",
       "34          34 -38.289659  41.853131  21.524147  27.786547 -34.017725   \n",
       "35          35 -35.303773  43.222840  24.122191  17.686974 -38.065404   \n",
       "36          36 -40.589036  45.167543  10.073226  24.307762 -33.025300   \n",
       "37          37 -37.303404  42.928662  21.963402  24.895074 -18.150813   \n",
       "38          38 -36.166852  45.564795  20.334407  24.843234 -25.286906   \n",
       "39          39 -36.536158  39.490987  15.901017  13.529027 -43.568654   \n",
       "\n",
       "         var5  \n",
       "0  -36.448874  \n",
       "1  -36.623828  \n",
       "2  -32.942213  \n",
       "3  -41.076794  \n",
       "4  -37.863466  \n",
       "5  -38.969574  \n",
       "6  -38.502725  \n",
       "7  -33.557349  \n",
       "8  -32.724306  \n",
       "9  -27.833670  \n",
       "10 -32.190582  \n",
       "11 -40.398703  \n",
       "12 -34.339181  \n",
       "13 -27.051939  \n",
       "14 -40.592681  \n",
       "15 -28.654503  \n",
       "16 -34.625689  \n",
       "17 -36.604430  \n",
       "18 -34.702779  \n",
       "19 -36.031246  \n",
       "20 -36.563141  \n",
       "21 -36.483580  \n",
       "22 -30.190645  \n",
       "23 -29.669312  \n",
       "24 -34.184852  \n",
       "25 -35.931096  \n",
       "26 -30.142993  \n",
       "27 -31.769154  \n",
       "28 -29.342447  \n",
       "29 -38.867696  \n",
       "30 -38.450528  \n",
       "31 -37.624350  \n",
       "32 -39.023240  \n",
       "33 -35.672516  \n",
       "34 -34.432772  \n",
       "35 -29.670518  \n",
       "36 -36.275919  \n",
       "37 -32.699861  \n",
       "38 -30.877075  \n",
       "39 -31.746536  "
      ]
     },
     "execution_count": 5,
     "metadata": {},
     "output_type": "execute_result"
    }
   ],
   "source": [
    "# напечатаем эти данные\n",
    "data"
   ]
  },
  {
   "cell_type": "markdown",
   "metadata": {},
   "source": [
    "Загруженные данные -- это таблица.\n",
    "\n",
    "Столбец  sampleID -- это номер образца материала. Для вычисления КК это число бесполезно, поэтому удалим столбец из таблицы.\n",
    "\n"
   ]
  },
  {
   "cell_type": "code",
   "execution_count": 7,
   "metadata": {},
   "outputs": [],
   "source": [
    "data = data.drop(columns=['Unnamed: 0'])"
   ]
  },
  {
   "cell_type": "code",
   "execution_count": 8,
   "metadata": {},
   "outputs": [
    {
     "data": {
      "text/html": [
       "<div>\n",
       "<style scoped>\n",
       "    .dataframe tbody tr th:only-of-type {\n",
       "        vertical-align: middle;\n",
       "    }\n",
       "\n",
       "    .dataframe tbody tr th {\n",
       "        vertical-align: top;\n",
       "    }\n",
       "\n",
       "    .dataframe thead th {\n",
       "        text-align: right;\n",
       "    }\n",
       "</style>\n",
       "<table border=\"1\" class=\"dataframe\">\n",
       "  <thead>\n",
       "    <tr style=\"text-align: right;\">\n",
       "      <th></th>\n",
       "      <th>var0</th>\n",
       "      <th>var1</th>\n",
       "      <th>var2</th>\n",
       "      <th>var3</th>\n",
       "      <th>var4</th>\n",
       "      <th>var5</th>\n",
       "    </tr>\n",
       "  </thead>\n",
       "  <tbody>\n",
       "    <tr>\n",
       "      <th>0</th>\n",
       "      <td>-38.950232</td>\n",
       "      <td>40.910445</td>\n",
       "      <td>11.708872</td>\n",
       "      <td>32.375613</td>\n",
       "      <td>-45.139528</td>\n",
       "      <td>-36.448874</td>\n",
       "    </tr>\n",
       "    <tr>\n",
       "      <th>1</th>\n",
       "      <td>-42.514483</td>\n",
       "      <td>42.268866</td>\n",
       "      <td>-6.690043</td>\n",
       "      <td>27.162719</td>\n",
       "      <td>-42.376453</td>\n",
       "      <td>-36.623828</td>\n",
       "    </tr>\n",
       "    <tr>\n",
       "      <th>2</th>\n",
       "      <td>-40.321773</td>\n",
       "      <td>46.502823</td>\n",
       "      <td>17.413483</td>\n",
       "      <td>28.343640</td>\n",
       "      <td>-30.050097</td>\n",
       "      <td>-32.942213</td>\n",
       "    </tr>\n",
       "    <tr>\n",
       "      <th>3</th>\n",
       "      <td>-42.332766</td>\n",
       "      <td>46.251360</td>\n",
       "      <td>9.414176</td>\n",
       "      <td>14.432018</td>\n",
       "      <td>-39.959943</td>\n",
       "      <td>-41.076794</td>\n",
       "    </tr>\n",
       "    <tr>\n",
       "      <th>4</th>\n",
       "      <td>-40.162429</td>\n",
       "      <td>42.318728</td>\n",
       "      <td>21.403761</td>\n",
       "      <td>24.338764</td>\n",
       "      <td>-25.673873</td>\n",
       "      <td>-37.863466</td>\n",
       "    </tr>\n",
       "  </tbody>\n",
       "</table>\n",
       "</div>"
      ],
      "text/plain": [
       "        var0       var1       var2       var3       var4       var5\n",
       "0 -38.950232  40.910445  11.708872  32.375613 -45.139528 -36.448874\n",
       "1 -42.514483  42.268866  -6.690043  27.162719 -42.376453 -36.623828\n",
       "2 -40.321773  46.502823  17.413483  28.343640 -30.050097 -32.942213\n",
       "3 -42.332766  46.251360   9.414176  14.432018 -39.959943 -41.076794\n",
       "4 -40.162429  42.318728  21.403761  24.338764 -25.673873 -37.863466"
      ]
     },
     "execution_count": 8,
     "metadata": {},
     "output_type": "execute_result"
    }
   ],
   "source": [
    "# завново напечатем данные, но только первые 10 строк\n",
    "data.head()"
   ]
  },
  {
   "cell_type": "markdown",
   "metadata": {},
   "source": [
    "### Корреляционный анализ"
   ]
  },
  {
   "cell_type": "markdown",
   "metadata": {},
   "source": [
    "**Корреляционный анализ** — метод обработки статистических данных, с помощью которого измеряется теснота связи между двумя или более переменными.\n",
    "\n",
    "**Корреляционный анализ** — метод обработки статистических данных, заключающийся в изучении коэффициентов корреляции между переменными. "
   ]
  },
  {
   "cell_type": "markdown",
   "metadata": {},
   "source": [
    "Вычислим и выведем коэффициенты корреляции для каждого столбца таблицы с каждым.\n",
    "Нижеприведенная таблица называется **матрицей корреляции**."
   ]
  },
  {
   "cell_type": "code",
   "execution_count": 9,
   "metadata": {},
   "outputs": [
    {
     "data": {
      "text/html": [
       "<div>\n",
       "<style scoped>\n",
       "    .dataframe tbody tr th:only-of-type {\n",
       "        vertical-align: middle;\n",
       "    }\n",
       "\n",
       "    .dataframe tbody tr th {\n",
       "        vertical-align: top;\n",
       "    }\n",
       "\n",
       "    .dataframe thead th {\n",
       "        text-align: right;\n",
       "    }\n",
       "</style>\n",
       "<table border=\"1\" class=\"dataframe\">\n",
       "  <thead>\n",
       "    <tr style=\"text-align: right;\">\n",
       "      <th></th>\n",
       "      <th>var0</th>\n",
       "      <th>var1</th>\n",
       "      <th>var2</th>\n",
       "      <th>var3</th>\n",
       "      <th>var4</th>\n",
       "      <th>var5</th>\n",
       "    </tr>\n",
       "  </thead>\n",
       "  <tbody>\n",
       "    <tr>\n",
       "      <th>var0</th>\n",
       "      <td>1.000000</td>\n",
       "      <td>-0.016439</td>\n",
       "      <td>0.216914</td>\n",
       "      <td>-0.307407</td>\n",
       "      <td>0.036891</td>\n",
       "      <td>0.777362</td>\n",
       "    </tr>\n",
       "    <tr>\n",
       "      <th>var1</th>\n",
       "      <td>-0.016439</td>\n",
       "      <td>1.000000</td>\n",
       "      <td>-0.175649</td>\n",
       "      <td>-0.098361</td>\n",
       "      <td>0.102843</td>\n",
       "      <td>0.065760</td>\n",
       "    </tr>\n",
       "    <tr>\n",
       "      <th>var2</th>\n",
       "      <td>0.216914</td>\n",
       "      <td>-0.175649</td>\n",
       "      <td>1.000000</td>\n",
       "      <td>-0.028766</td>\n",
       "      <td>0.261499</td>\n",
       "      <td>0.226636</td>\n",
       "    </tr>\n",
       "    <tr>\n",
       "      <th>var3</th>\n",
       "      <td>-0.307407</td>\n",
       "      <td>-0.098361</td>\n",
       "      <td>-0.028766</td>\n",
       "      <td>1.000000</td>\n",
       "      <td>0.089344</td>\n",
       "      <td>-0.193938</td>\n",
       "    </tr>\n",
       "    <tr>\n",
       "      <th>var4</th>\n",
       "      <td>0.036891</td>\n",
       "      <td>0.102843</td>\n",
       "      <td>0.261499</td>\n",
       "      <td>0.089344</td>\n",
       "      <td>1.000000</td>\n",
       "      <td>0.114291</td>\n",
       "    </tr>\n",
       "    <tr>\n",
       "      <th>var5</th>\n",
       "      <td>0.777362</td>\n",
       "      <td>0.065760</td>\n",
       "      <td>0.226636</td>\n",
       "      <td>-0.193938</td>\n",
       "      <td>0.114291</td>\n",
       "      <td>1.000000</td>\n",
       "    </tr>\n",
       "  </tbody>\n",
       "</table>\n",
       "</div>"
      ],
      "text/plain": [
       "          var0      var1      var2      var3      var4      var5\n",
       "var0  1.000000 -0.016439  0.216914 -0.307407  0.036891  0.777362\n",
       "var1 -0.016439  1.000000 -0.175649 -0.098361  0.102843  0.065760\n",
       "var2  0.216914 -0.175649  1.000000 -0.028766  0.261499  0.226636\n",
       "var3 -0.307407 -0.098361 -0.028766  1.000000  0.089344 -0.193938\n",
       "var4  0.036891  0.102843  0.261499  0.089344  1.000000  0.114291\n",
       "var5  0.777362  0.065760  0.226636 -0.193938  0.114291  1.000000"
      ]
     },
     "execution_count": 9,
     "metadata": {},
     "output_type": "execute_result"
    }
   ],
   "source": [
    "data.corr()"
   ]
  },
  {
   "cell_type": "markdown",
   "metadata": {},
   "source": [
    "Рассмотрим например корреляцию между коэф. поглощения звука (acoustic1) и толщиной материала (thickness): пересечение строки thickness и столбца acoustic1, КК  0.613085.\n",
    "\n",
    "- Коэффициент корреляции отличается от нуля, значит существует зависимость между поглощением звука и толщиной материала. \n",
    "- КК положителен, значит эта зависимость прямая\n",
    "- Далее будем обозначать КК буквой **r**.\n",
    "\n",
    "\n",
    "Аналогичным способом можно делать и выводы о кореляции других величин друг от друга."
   ]
  },
  {
   "cell_type": "markdown",
   "metadata": {},
   "source": [
    "Однако можно представить матрицу корреляции и нагляднее. Построим тепловую карту, обозначив величину КК цветом."
   ]
  },
  {
   "cell_type": "code",
   "execution_count": 10,
   "metadata": {},
   "outputs": [
    {
     "data": {
      "text/plain": [
       "<matplotlib.axes._subplots.AxesSubplot at 0x7f7db74c8580>"
      ]
     },
     "execution_count": 10,
     "metadata": {},
     "output_type": "execute_result"
    },
    {
     "data": {
      "image/png": "[encoded data removed]",
      "text/plain": [
       "<Figure size 720x720 with 2 Axes>"
      ]
     },
     "metadata": {
      "needs_background": "light"
     },
     "output_type": "display_data"
    }
   ],
   "source": [
    "figure( figsize=(10,10))  # размер графика - 10х10 едениц\n",
    "seaborn.heatmap( data.corr(),\n",
    "                cmap='coolwarm',  # способ цветового кодирования: холодные и тёплые цвета\n",
    "                annot=True)  # annot=True - показывать не только цвета, но и величну КК"
   ]
  },
  {
   "cell_type": "markdown",
   "metadata": {},
   "source": [
    "Теперь рассмотрим корреляцию между толщиной материала и коэф. звукопоглощения отдельно.\n",
    "\n",
    "Построим диаграмму рассеивания. Точки на этой диаграмме - это отдельные измерения соответствующих величин."
   ]
  },
  {
   "cell_type": "code",
   "execution_count": null,
   "metadata": {},
   "outputs": [],
   "source": [
    "seaborn.jointplot(data=data,  # используемые данные\n",
    "                  x=\"thickness\", y='acoustic1', # какой столбец по какой оси озобразить\n",
    "                  kind='reg')  # reg - изобразить линию регрессии"
   ]
  },
  {
   "cell_type": "markdown",
   "metadata": {},
   "source": [
    "- Точки на графики - это пары значений (thickness и acoustic1)\n",
    "- Каздая пара значений взята из одной строчки таблицы data. Одна строка таблицы - это одно испытание на звукопоглощение.\n",
    "- На графике видно, что большинство значений грубо подходят под проведённую линию. \n",
    "- Эта линия называется **линией регрессии**\n",
    "- Чем ближе КК к 1 или -1, тем больше точек лежит на линии регрессии"
   ]
  },
  {
   "cell_type": "markdown",
   "metadata": {},
   "source": [
    "#### Гипотеза о равенстве КК нулю"
   ]
  },
  {
   "cell_type": "markdown",
   "metadata": {},
   "source": [
    "- Однако, экспериментальные данные - это всего лишь выборка, потому, что исследуется только небольшая часть из всех материалов. Поэтому есть шанс, что полученная зависимость между исследуемыми величинами случайна.\n",
    "\n",
    "- Требуется убедится, что зависимость есть не только в выборке но и в генеральной совокупности.\n",
    "\n",
    "- При построении графика заодно проверяется гипотеза (нулевая гипотеза) о равенстве КК нулю. \n",
    "    - $H_0: r = 0$\n",
    "\n",
    "- Если это равенство подтвердится, значит полученное значение КК получилось именно таким случайно. \n",
    "\n",
    "- Для проверки гипотезы вычисляется p-value. Правило для принятия нулевой гипотезы: \n",
    "    - p-value > 0.05 - нулевая гипотеза принимается.\n",
    "    - p-value < 0.05 - нулевая гипотеза отвергается.\n",
    "\n"
   ]
  },
  {
   "cell_type": "markdown",
   "metadata": {},
   "source": [
    "В примере выше: p-value = 0.0014 < 0.05.\n",
    "Отвергаем нулевую гипотезу о равенстве КК нулю. КК статистически значим. Поэтому будем считать, что такое же значение КК справедливо и для выборки.\n"
   ]
  },
  {
   "cell_type": "markdown",
   "metadata": {},
   "source": [
    "Просмотрим справку по функции, вычисляющей коэффицент корреляции и p-value"
   ]
  },
  {
   "cell_type": "code",
   "execution_count": null,
   "metadata": {},
   "outputs": [],
   "source": [
    "help(pearsonr)"
   ]
  },
  {
   "cell_type": "code",
   "execution_count": 11,
   "metadata": {},
   "outputs": [
    {
     "data": {
      "text/plain": [
       "(0.7773619317320645, 3.646240303255737e-09)"
      ]
     },
     "execution_count": 11,
     "metadata": {},
     "output_type": "execute_result"
    }
   ],
   "source": [
    "# вычислим коэффициент корреляции и p-value\n",
    "pearsonr( data[\"var5\"], data[\"var0\"])"
   ]
  },
  {
   "cell_type": "markdown",
   "metadata": {},
   "source": [
    "В примере выше: p-value = 0.0014 < 0.05.\n",
    "Отвергаем нулевую гипотезу о равенстве КК нулю. КК статистически значим. Поэтому будм считать, что такое же значение КК справделиво и для выборки.\n"
   ]
  },
  {
   "cell_type": "markdown",
   "metadata": {},
   "source": [
    "***\n",
    "Для примера построим ещё и диаграмму рассеивания для величин поглощение звука (acoustic1) и жёсткость (stiffness)"
   ]
  },
  {
   "cell_type": "code",
   "execution_count": null,
   "metadata": {},
   "outputs": [],
   "source": [
    "seaborn.jointplot(data=data, x=\"stiffness\", y=\"acoustic1\", kind='reg')"
   ]
  },
  {
   "cell_type": "code",
   "execution_count": 12,
   "metadata": {},
   "outputs": [
    {
     "ename": "ValueError",
     "evalue": "Could not interpret input 'stiffness'",
     "output_type": "error",
     "traceback": [
      "\u001b[0;31m---------------------------------------------------------------------------\u001b[0m",
      "\u001b[0;31mValueError\u001b[0m                                Traceback (most recent call last)",
      "\u001b[0;32m<ipython-input-12-dfd01e5f06c5>\u001b[0m in \u001b[0;36m<module>\u001b[0;34m\u001b[0m\n\u001b[0;32m----> 1\u001b[0;31m \u001b[0mseaborn\u001b[0m\u001b[0;34m.\u001b[0m\u001b[0mjointplot\u001b[0m\u001b[0;34m(\u001b[0m\u001b[0mdata\u001b[0m\u001b[0;34m=\u001b[0m\u001b[0mdata\u001b[0m\u001b[0;34m,\u001b[0m \u001b[0mx\u001b[0m\u001b[0;34m=\u001b[0m\u001b[0;34m\"stiffness\"\u001b[0m\u001b[0;34m,\u001b[0m \u001b[0my\u001b[0m\u001b[0;34m=\u001b[0m\u001b[0;34m\"acoustic1\"\u001b[0m\u001b[0;34m,\u001b[0m \u001b[0mkind\u001b[0m\u001b[0;34m=\u001b[0m\u001b[0;34m'reg'\u001b[0m\u001b[0;34m)\u001b[0m\u001b[0;34m\u001b[0m\u001b[0;34m\u001b[0m\u001b[0m\n\u001b[0m",
      "\u001b[0;32m~/.local/lib/python3.8/site-packages/seaborn/axisgrid.py\u001b[0m in \u001b[0;36mjointplot\u001b[0;34m(x, y, data, kind, stat_func, color, height, ratio, space, dropna, xlim, ylim, joint_kws, marginal_kws, annot_kws, **kwargs)\u001b[0m\n\u001b[1;32m   2279\u001b[0m \u001b[0;34m\u001b[0m\u001b[0m\n\u001b[1;32m   2280\u001b[0m     \u001b[0;31m# Initialize the JointGrid object\u001b[0m\u001b[0;34m\u001b[0m\u001b[0;34m\u001b[0m\u001b[0;34m\u001b[0m\u001b[0m\n\u001b[0;32m-> 2281\u001b[0;31m     grid = JointGrid(x, y, data, dropna=dropna,\n\u001b[0m\u001b[1;32m   2282\u001b[0m                      \u001b[0mheight\u001b[0m\u001b[0;34m=\u001b[0m\u001b[0mheight\u001b[0m\u001b[0;34m,\u001b[0m \u001b[0mratio\u001b[0m\u001b[0;34m=\u001b[0m\u001b[0mratio\u001b[0m\u001b[0;34m,\u001b[0m \u001b[0mspace\u001b[0m\u001b[0;34m=\u001b[0m\u001b[0mspace\u001b[0m\u001b[0;34m,\u001b[0m\u001b[0;34m\u001b[0m\u001b[0;34m\u001b[0m\u001b[0m\n\u001b[1;32m   2283\u001b[0m                      xlim=xlim, ylim=ylim)\n",
      "\u001b[0;32m~/.local/lib/python3.8/site-packages/seaborn/axisgrid.py\u001b[0m in \u001b[0;36m__init__\u001b[0;34m(self, x, y, data, height, ratio, space, dropna, xlim, ylim, size)\u001b[0m\n\u001b[1;32m   1700\u001b[0m             \u001b[0;32mif\u001b[0m \u001b[0misinstance\u001b[0m\u001b[0;34m(\u001b[0m\u001b[0mvar\u001b[0m\u001b[0;34m,\u001b[0m \u001b[0mstr\u001b[0m\u001b[0;34m)\u001b[0m\u001b[0;34m:\u001b[0m\u001b[0;34m\u001b[0m\u001b[0;34m\u001b[0m\u001b[0m\n\u001b[1;32m   1701\u001b[0m                 \u001b[0merr\u001b[0m \u001b[0;34m=\u001b[0m \u001b[0;34m\"Could not interpret input '{}'\"\u001b[0m\u001b[0;34m.\u001b[0m\u001b[0mformat\u001b[0m\u001b[0;34m(\u001b[0m\u001b[0mvar\u001b[0m\u001b[0;34m)\u001b[0m\u001b[0;34m\u001b[0m\u001b[0;34m\u001b[0m\u001b[0m\n\u001b[0;32m-> 1702\u001b[0;31m                 \u001b[0;32mraise\u001b[0m \u001b[0mValueError\u001b[0m\u001b[0;34m(\u001b[0m\u001b[0merr\u001b[0m\u001b[0;34m)\u001b[0m\u001b[0;34m\u001b[0m\u001b[0;34m\u001b[0m\u001b[0m\n\u001b[0m\u001b[1;32m   1703\u001b[0m \u001b[0;34m\u001b[0m\u001b[0m\n\u001b[1;32m   1704\u001b[0m         \u001b[0;31m# Find the names of the variables\u001b[0m\u001b[0;34m\u001b[0m\u001b[0;34m\u001b[0m\u001b[0;34m\u001b[0m\u001b[0m\n",
      "\u001b[0;31mValueError\u001b[0m: Could not interpret input 'stiffness'"
     ]
    },
    {
     "data": {
      "image/png": "[encoded data removed]",
      "text/plain": [
       "<Figure size 432x432 with 3 Axes>"
      ]
     },
     "metadata": {
      "needs_background": "light"
     },
     "output_type": "display_data"
    }
   ],
   "source": [
    "seaborn.jointplot(data=data, x=\"stiffness\", y=\"acoustic1\", kind='reg')"
   ]
  },
  {
   "cell_type": "markdown",
   "metadata": {},
   "source": [
    "- Здесь точки разбросаны более хаотично, трудно провести линию регрессии, которая подходила бы большинству точек.\n",
    "- Поэтому и КК близок к нулю.\n",
    "- Значит здесь нет заметной статистической зависимости\n",
    "- Это подтверждается проверкой гипотезы о равенстве КК нулю: p-value > 0.05. Значит нет оснований отклонить нулевую гипотезу $H_0: r=0$"
   ]
  },
  {
   "cell_type": "markdown",
   "metadata": {},
   "source": [
    "## Регрессионный анализ\n",
    "**Регрессионный анализ** — статистический метод исследования влияния одной или нескольких независимых переменных $X_1 , X_2 , ... , X_n$ на зависимую переменную Y.\n",
    "\n",
    "\n",
    "- найти функцию, которая отображает зависимость одних переменных или данных от других\n",
    "    - Y = f(x_1, x_2, ..., x_3)\n",
    "- функция строится на основе известных значений переменных\n",
    "- Регрессия полезна для прогнозирования ответа на новые условия\n",
    "\n",
    "\n",
    "\n",
    "\n",
    "\n",
    "Отличия регрессионного анализа от корреляционного:\n",
    "- в корреляционном анализе важен коэффициент корреляции\n",
    "- в регрессионном анализе важно уравнение регрессии, т.е. предсказание значений зависимой переменной"
   ]
  },
  {
   "cell_type": "code",
   "execution_count": null,
   "metadata": {
    "scrolled": true
   },
   "outputs": [],
   "source": [
    "linregress(data['airPerm'], data['acoustic1'])"
   ]
  },
  {
   "cell_type": "markdown",
   "metadata": {},
   "source": [
    "Уравнение будет иметь вид:\n",
    "$$ acoustic1 = slope \\cdot airPerm + intercept $$\n",
    "\n",
    "\n",
    "Теперь им можно пользоватся, чтобы предсказать *среднее* значение *acoustic1*, для заданного значения *airPerm* (и при фиксированых значениях остальных переменных)"
   ]
  },
  {
   "cell_type": "code",
   "execution_count": null,
   "metadata": {},
   "outputs": [],
   "source": [
    "# например вычислим коэф. звукопоглощения1 (acoustic1)\n",
    "# для воздухопроницаемости airPerm 950 mm/s\n",
    "-0.0005196861386681389 * 950 + 0.7918330758205965"
   ]
  },
  {
   "cell_type": "code",
   "execution_count": null,
   "metadata": {
    "scrolled": false
   },
   "outputs": [],
   "source": [
    "# построим диаграмму рассеивания и линию регрессии\n",
    "seaborn.jointplot(data['airPerm'], data['acoustic1'], kind='reg')\n",
    "\n",
    "# отметим предсказанное значение коэф. звукопоглощения\n",
    "plot(950, 0.2981312440858645, 'o')\n",
    "grid()"
   ]
  },
  {
   "cell_type": "markdown",
   "metadata": {},
   "source": [
    "# Пример 2\n",
    "\n",
    "Concrete Compressive Strength \n",
    "\n",
    "---------------------------------\n",
    "\n",
    "Data Type: multivariate\n",
    " \n",
    "Abstract: Concrete is the most important material in civil engineering. The \n",
    "concrete compressive strength is a highly nonlinear function of age and \n",
    "ingredients. These ingredients include cement, blast furnace slag, fly ash, \n",
    "water, superplasticizer, coarse aggregate, and fine aggregate.\n",
    "\n",
    "---------------------------------\n",
    "\n",
    "Sources: \n",
    "\n",
    "  Original Owner and Donor\n",
    "  Prof. I-Cheng Yeh\n",
    "  Department of Information Management \n",
    "  Chung-Hua University, \n",
    "  Hsin Chu, Taiwan 30067, R.O.C.\n",
    "  e-mail:icyeh@chu.edu.tw\n",
    "  TEL:886-3-5186511\n",
    "\n",
    "  Date Donated: August 3, 2007\n",
    " \n",
    "---------------------------------\n",
    "\n",
    "Data Characteristics:\n",
    "    \n",
    "The actual concrete compressive strength (MPa) for a given mixture under a \n",
    "specific age (days) was determined from laboratory. Data is in raw form (not scaled). \n",
    "\n",
    "Summary Statistics: \n",
    "\n",
    "Number of instances (observations): 1030\n",
    "Number of Attributes: 9\n",
    "Attribute breakdown: 8 quantitative input variables, and 1 quantitative output variable\n",
    "Missing Attribute Values: None\n",
    "\n",
    "---------------------------------\n",
    "\n",
    "Variable Information:\n",
    "\n",
    "Given is the variable name, variable type, the measurement unit and a brief description. \n",
    "The concrete compressive strength is the regression problem. The order of this listing \n",
    "corresponds to the order of numerals along the rows of the database. \n",
    "\n",
    "Name -- Data Type -- Measurement -- Description\n",
    "\n",
    "- Cement (component 1) -- quantitative -- kg in a m3 mixture -- Input Variable\n",
    "- Blast Furnace Slag (доменный шлак, component 2) -- quantitative -- kg in a m3 mixture -- Input Variable\n",
    "- Fly Ash (Летучая зола, component 3) -- quantitative -- kg in a m3 mixture -- Input Variable\n",
    "- Water (вода, component 4) -- quantitative -- kg in a m3 mixture -- Input Variable\n",
    "- Superplasticizer (component 5) -- quantitative -- kg in a m3 mixture -- Input Variable\n",
    "- Coarse Aggregate (заполнитель, component 6) -- quantitative -- kg in a m3 mixture -- Input Variable\n",
    "- Fine Aggregate (мелкий заполнитель, component 7) -- quantitative -- kg in a m3 mixture -- Input Variable\n",
    "- Age (время отведённое на завтердевание) -- quantitative -- Day (1~365) -- Input Variable\n",
    "- Concrete compressive strength (прочность на сжатие) -- quantitative -- MPa -- Output Variable \n",
    "\n",
    "---------------------------------\n",
    "\n",
    "Acknowledgements, Copyright Information, and Availability:\n",
    "\n",
    "NOTE: Reuse of this database is unlimited with retention of copyright notice for \n",
    "Prof. I-Cheng Yeh and the following published paper:\n",
    "\n",
    "I-Cheng Yeh, \"Modeling of strength of high performance concrete using artificial \n",
    "neural networks,\" Cement and Concrete Research, Vol. 28, No. 12, pp. 1797-1808 (1998)\n",
    "\n",
    "\n",
    "\n"
   ]
  },
  {
   "cell_type": "code",
   "execution_count": null,
   "metadata": {},
   "outputs": [],
   "source": [
    "data2 = pd.read_csv(\"Concrete_Data.csv\", header=0, comment='#', delimiter=';')\n",
    "# здесь один столбец отделён от другого точкой с запятой (;), а не запятой, \n",
    "# поэтому чтобы данные загрузились корректно, укажем разделитель: delimiter=';'"
   ]
  },
  {
   "cell_type": "code",
   "execution_count": null,
   "metadata": {},
   "outputs": [],
   "source": [
    "# названия столбцов очень длинные, поэтому заменим на короткие\n",
    "cols = data2.columns.values\n",
    "cols[0] = \"component1\"\n",
    "cols[1] = \"component2\"\n",
    "cols[2] = \"component3\"\n",
    "cols[3] = \"component4\"\n",
    "cols[4] = \"component5\"\n",
    "cols[5] = \"component6\"\n",
    "cols[6] = \"component7\"\n",
    "cols[7] = \"age\"\n",
    "cols[8] = \"strength\"\n",
    "data2.columns = cols"
   ]
  },
  {
   "cell_type": "code",
   "execution_count": null,
   "metadata": {},
   "outputs": [],
   "source": [
    "# удалим последний столбец, он без данных\n",
    "data2 = data2.drop(columns=['Unnamed: 9'])"
   ]
  },
  {
   "cell_type": "code",
   "execution_count": null,
   "metadata": {
    "scrolled": true
   },
   "outputs": [],
   "source": [
    "data2.head()"
   ]
  },
  {
   "cell_type": "code",
   "execution_count": null,
   "metadata": {},
   "outputs": [],
   "source": [
    "data2.info()"
   ]
  },
  {
   "cell_type": "code",
   "execution_count": null,
   "metadata": {},
   "outputs": [],
   "source": [
    "figure( figsize=(10,10) )\n",
    "seaborn.heatmap( data2.corr(), cmap='coolwarm', annot = True )"
   ]
  },
  {
   "cell_type": "markdown",
   "metadata": {},
   "source": [
    "- Какие части бетонной смеси сильнее всего влияет на его прочность после застывания?\n",
    "- Где зависимость прямая, а где обратная?\n",
    "- Есть ли компоненты смеси, которые мало влияют на прочность?\n",
    "- Как влияет время застывания смеси на прочность бетона?\n",
    "- Как влияет количество воды в смеси на время застывания?"
   ]
  },
  {
   "cell_type": "markdown",
   "metadata": {},
   "source": [
    "## Пример 3. Анализ зависимых выборок\n",
    "\n",
    "[зависимые и независимые выборки (wikipedia)](https://ru.wikipedia.org/wiki/%D0%92%D1%8B%D0%B1%D0%BE%D1%80%D0%BA%D0%B0#%D0%97%D0%B0%D0%B2%D0%B8%D1%81%D0%B8%D0%BC%D1%8B%D0%B5_%D0%B8_%D0%BD%D0%B5%D0%B7%D0%B0%D0%B2%D0%B8%D1%81%D0%B8%D0%BC%D1%8B%D0%B5_%D0%B2%D1%8B%D0%B1%D0%BE%D1%80%D0%BA%D0%B8)\n"
   ]
  },
  {
   "cell_type": "code",
   "execution_count": null,
   "metadata": {},
   "outputs": [],
   "source": [
    "# рассмотрим две зависимые выборки\n",
    "X = [4.61, 6.42, 5.40, 4.54, 3.98, 3.82, 5.01, 4.34, 3.80, 4.56, 5.35, 3.89, 2.25, 4.24]\n",
    "Y = [3.84, 5.57, 5.85, 4.80, 3.68, 2.96, 4.41, 3.72, 3.49, 3.84, 5.26, 3.73, 1.84, 4.14]\n",
    "\n",
    "# видно, что значения попарно различаются\n",
    "# но насколько статистически значимо это различие?"
   ]
  },
  {
   "cell_type": "markdown",
   "metadata": {},
   "source": [
    "### Проверка на нормальность"
   ]
  },
  {
   "cell_type": "code",
   "execution_count": null,
   "metadata": {},
   "outputs": [],
   "source": [
    "# для начала всех проверок нужно убедится, что выборки сделаны из ген. совокупности с нормальным распределением\n",
    "normaltest(X)"
   ]
  },
  {
   "cell_type": "code",
   "execution_count": null,
   "metadata": {},
   "outputs": [],
   "source": [
    "normaltest(Y)"
   ]
  },
  {
   "cell_type": "markdown",
   "metadata": {},
   "source": [
    "normaltest проверяет $H_0$: выборка сделана из нормально распределённой генеральной совокупности.\n",
    "оба p-value получились больше 0.05, поэтому принимаем $H_0$"
   ]
  },
  {
   "cell_type": "code",
   "execution_count": null,
   "metadata": {},
   "outputs": [],
   "source": [
    "# спарвка по nornaltest\n",
    "#help(normaltest)"
   ]
  },
  {
   "cell_type": "markdown",
   "metadata": {},
   "source": [
    "Выборочные данные могут не слишком хорошо описывать генеральную совокупность.\n",
    "Поэтому проверим, равны ли средние по выборкам средним в генеральных совокупностях"
   ]
  },
  {
   "cell_type": "code",
   "execution_count": null,
   "metadata": {},
   "outputs": [],
   "source": [
    "from scipy.stats import wilcoxon\n",
    "from matplotlib.pyplot import*"
   ]
  },
  {
   "cell_type": "markdown",
   "metadata": {},
   "source": [
    "### Диаграммы размаха"
   ]
  },
  {
   "cell_type": "code",
   "execution_count": null,
   "metadata": {
    "scrolled": false
   },
   "outputs": [],
   "source": [
    "figure( figsize=(5,10) )\n",
    "data = pd.DataFrame({'X':X, 'Y':X})\n",
    "grid()\n",
    "seaborn.boxplot(x=\"variable\", y=\"value\", data=pd.melt(data))"
   ]
  },
  {
   "cell_type": "markdown",
   "metadata": {},
   "source": [
    "### Доверительные интервалы\n",
    "Оценивать среднее значение в генеральной совокупности по среднему в воборке трудно. Разброс значений величины может быть большим, и не понятно на сколько средняя по выборке может отклонится от средней по значению.\n",
    "\n",
    "\n",
    "\n",
    "Чтобы учесть разброс вычислим *доверительный интервал* для среднего - интервал, в который попадает среднее по генеральной совокупности с достаточно большой вероятностью. Эта вероятность называется *надёжностью*.\n",
    "\n",
    "Зададим надёжность равной 0.95.\n",
    "\n",
    "Будем определять доверительный для математического ожидания ген. совокупности интервал так:\n",
    "\n",
    "$$ ( \\bar x - delta, \\bar x + delta )$$\n",
    "\n",
    "где $\\bar x$ - среднее по выборке, $delta$ - половина ширины  интервала.\n",
    "\n",
    "\n",
    "Тогда вероятность попадания математического ожидания ($M(X)$) генеральной совокупности в доверительный интервал запишем так:\n",
    "\n",
    "\n",
    "$$ P( \\bar x - delta < M(X) < \\bar x + delta) $$\n",
    "\n",
    "Чтобы получить левую и правую границу интервала отступим влево и вправо от среднего по выборке.\n",
    "Величина отступа определяется так: \n",
    "$$ delta = \\frac{\\sigma}{\\sqrt{n}} \\cdot t $$\n",
    "\n",
    "гдн n - объём выборки, $\\sigma$ - стандартное отклонение по выборке, t - величина связанная с надёжностью, $t = arg( \\int \\limits_{0}^{t} S(t,n) dt = 0.95 / 2) $\n",
    "\n",
    "\n",
    "S(t,n) - распределение Стьюдента. t можно вычислить используя калькулятор [Probability Distributions](https://play.google.com/store/apps/details?id=com.mbognar.probdist):\n",
    "- выбрать t распределение (распределение Стьюдента)\n",
    "- v = n\n",
    "- x = t - не задаётся,\n",
    "- P(X<x) = 0.5 - 0.95/2 = 0.25 (площадь под графиком должна быть закрашена слева)"
   ]
  },
  {
   "cell_type": "code",
   "execution_count": null,
   "metadata": {},
   "outputs": [],
   "source": [
    "# вычисление t\n",
    "\n",
    "from scipy.stats import t\n",
    "t.isf(0.5 - 0.95/2, 10000)  # вычисляет значение t по функции распределения Стьюдента"
   ]
  },
  {
   "cell_type": "code",
   "execution_count": null,
   "metadata": {},
   "outputs": [],
   "source": [
    "#левая граница интервала\n",
    "np.mean(X) - np.std(X) / len(X)**0.5 * 1.96"
   ]
  },
  {
   "cell_type": "code",
   "execution_count": null,
   "metadata": {},
   "outputs": [],
   "source": [
    "#правая граница интервала\n",
    "np.mean(X) + np.std(X) / len(X)**0.5 * 1.96"
   ]
  },
  {
   "cell_type": "markdown",
   "metadata": {},
   "source": [
    "Математическое ожидание генеральной совокупности, из которой была сделана выборка X с вероятностью 0.95 лежит в интервале \n",
    "$$ (3.955, 4.932) $$"
   ]
  },
  {
   "cell_type": "markdown",
   "metadata": {},
   "source": [
    "### Тест Уилкиксона: выборки сделаны из одного и того же распределения?\n",
    "Эта проверка показывает, что генеральные совокупности из которых сделаны выборки совпадают. То есть выборки статистически неразличимы."
   ]
  },
  {
   "cell_type": "code",
   "execution_count": null,
   "metadata": {},
   "outputs": [],
   "source": [
    "wilcoxon(X,Y)"
   ]
  },
  {
   "cell_type": "markdown",
   "metadata": {},
   "source": [
    "p-value < 0.05, отвергаем нулевую гипотезу о равенстве выборок.\n",
    "\n",
    "*стоит заметить, что в зависимости от цены ошибки иногда уровень значимости уменьшают, например вместо 0.05 используют 0.01. Тогда бы в рассмотренном случае нулевую гипотезу пришлось бы принять*"
   ]
  },
  {
   "cell_type": "markdown",
   "metadata": {},
   "source": [
    "# Вопросы\n",
    "1. Что такое выборка? Что такое генеральная совокупность?\n",
    "2. Что такое корреляция?\n",
    "3. Что такое коэффициент корреляции (линейный)?\n",
    "4. Что такое статистическая гипотеза?\n",
    "5. Что такое p-v). alue? Как это значение используется для проверки гипотез?\n",
    "6. Почему нужно проверять гипотезу о равенстве коэффициента корреляции генеральной совокупности нулю?\n",
    "7. Что такое диаграмма размаха?\n",
    "8. Что такое матрица корреляции?\n",
    "9. Что такое доверительный интервал для математического ожидания? От чего зависит его ширина?"
   ]
  }
 ],
 "metadata": {
  "kernelspec": {
   "display_name": "Python 3",
   "language": "python",
   "name": "python3"
  },
  "language_info": {
   "codemirror_mode": {
    "name": "ipython",
    "version": 3
   },
   "file_extension": ".py",
   "mimetype": "text/x-python",
   "name": "python",
   "nbconvert_exporter": "python",
   "pygments_lexer": "ipython3",
   "version": "3.8.5"
  }
 },
 "nbformat": 4,
 "nbformat_minor": 2
}
