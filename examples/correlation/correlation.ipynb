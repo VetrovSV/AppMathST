{
 "cells": [
  {
   "cell_type": "markdown",
   "metadata": {},
   "source": [
    "# Корреляция"
   ]
  },
  {
   "cell_type": "code",
   "execution_count": 1,
   "metadata": {},
   "outputs": [],
   "source": [
    "# раскомментирвоть (убрать символ #) строки ниже для установки модулей в mybinder.org\n",
    "# !pip install scipy\n",
    "# !pip install seaborn\n",
    "# !pip install pandas"
   ]
  },
  {
   "cell_type": "code",
   "execution_count": null,
   "metadata": {},
   "outputs": [],
   "source": [
    "import pandas as pd     # для загрузки и хранения данных в таблице (DataFrame)\n",
    "import seaborn          # для построения графиков\n",
    "from matplotlib.pyplot import *   # для построения графиков\n",
    "\n",
    "from scipy.stats import linregress, pearsonr    # для построения уравнения регрессии\n",
    "import numpy as np"
   ]
  },
  {
   "cell_type": "markdown",
   "metadata": {},
   "source": [
    "## Пример 1\n",
    "Поглощение звука материалами в зависимости от их свойств (толщина, масса, жесткость и др.)\n",
    "\n",
    "Источник данных: \n",
    "http://users.stat.ufl.edu/~winner/datasets.html\n",
    "\n",
    "\n",
    "Описание данных:\n",
    "\n",
    "Description: Acoustic absorption coefficients of 24 woven fabrics\n",
    "with different air gap distances (d=0,1,2,3,cm)\n",
    "\n",
    "Responses: \n",
    "\n",
    "- acoustic0  (d=0 cm)\n",
    "- acoustic1\n",
    "- acoustic2\n",
    "- acoustic3\n",
    "\n",
    "\n",
    "Predictors:\n",
    "\n",
    "- thickness   (mm)\n",
    "- diameter    (mm)\n",
    "- perforation (%)\n",
    "- weight      (g/m^2)\n",
    "- stiffness   (mN x cm)\n",
    "- airPerm     (air permeability, mm/s) "
   ]
  },
  {
   "cell_type": "code",
   "execution_count": null,
   "metadata": {},
   "outputs": [],
   "source": [
    "# загрузка данных из файла fabricsoundabsorb.csv \n",
    "# это текстовый файл с данными расположеными в столбцах\n",
    "# header = 0 - заголовок для столбцов это нелувая (персвая посчёту строка)\n",
    "# comment='#' решеткой в начале строки помечаны дополнительная, справочная, информация\n",
    "# в файле, они будут проигнорированы при загрузке.\n",
    "\n",
    "data = pd.read_csv(\"fabricsoundabsorb.csv\", comment='#', header=0)\n",
    "\n",
    "# данные будут загружены в переменную data"
   ]
  },
  {
   "cell_type": "code",
   "execution_count": null,
   "metadata": {},
   "outputs": [],
   "source": [
    "# В mybinder.org файлы могут быть недоступны,\n",
    "# тогда записать данные в переменную data можно скопировав их из файла.\n",
    "\n",
    "\n",
    "# все данные записываются в квадратных скобках, каждая строчка из файла снова в квадратных скобках\n",
    "# нужно раскомментировать строки ниже (убрать символ #)\n",
    "# d = [ [1213, 21241, 31412, 41242],\n",
    "#       [623,  14324, 231,   12123]]\n",
    "# \n",
    "# data = pd.DataFrame( d )"
   ]
  },
  {
   "cell_type": "code",
   "execution_count": null,
   "metadata": {},
   "outputs": [],
   "source": [
    "# напечатаем эти данные\n",
    "data"
   ]
  },
  {
   "cell_type": "markdown",
   "metadata": {},
   "source": [
    "Загруженные данные -- это таблица.\n",
    "\n",
    "Столбец  sampleID -- это номер образца материала. Для вычисления КК это число бесполезно, поэтому удалим столбец из таблицы.\n",
    "\n"
   ]
  },
  {
   "cell_type": "code",
   "execution_count": null,
   "metadata": {},
   "outputs": [],
   "source": [
    "data = data.drop(columns=['sampleID'])"
   ]
  },
  {
   "cell_type": "code",
   "execution_count": null,
   "metadata": {},
   "outputs": [],
   "source": [
    "# завново напечатем данные, но только первые 10 строк\n",
    "data.head()"
   ]
  },
  {
   "cell_type": "markdown",
   "metadata": {},
   "source": [
    "### Корреляционный анализ"
   ]
  },
  {
   "cell_type": "markdown",
   "metadata": {},
   "source": [
    "**Корреляционный анализ** — метод обработки статистических данных, с помощью которого измеряется теснота связи между двумя или более переменными.\n",
    "\n",
    "**Корреляционный анализ** — метод обработки статистических данных, заключающийся в изучении коэффициентов корреляции между переменными. "
   ]
  },
  {
   "cell_type": "markdown",
   "metadata": {},
   "source": [
    "Вычислим и выведем коэффициенты корреляции для каждого столбца таблицы с каждым.\n",
    "Нижеприведенная таблица называется **матрицей корреляции**."
   ]
  },
  {
   "cell_type": "code",
   "execution_count": null,
   "metadata": {},
   "outputs": [],
   "source": [
    "data.corr()"
   ]
  },
  {
   "cell_type": "markdown",
   "metadata": {},
   "source": [
    "Рассмотрим например корреляцию между коэф. поглощения звука (acoustic1) и толщиной материала (thickness): пересечение строки thickness и столбца acoustic1, КК  0.613085.\n",
    "\n",
    "- Коэффициент корреляции отличается от нуля, значит существует зависимость между поглощением звука и толщиной материала. \n",
    "- КК положителен, значит эта зависимость прямая\n",
    "- Далее будем обозначать КК буквой **r**.\n",
    "\n",
    "\n",
    "Аналогичным способом можно делать и выводы о кореляции других величин друг от друга."
   ]
  },
  {
   "cell_type": "markdown",
   "metadata": {},
   "source": [
    "Однако можно представить матрицу корреляции и нагляднее. Построим тепловую карту, обозначив величину КК цветом."
   ]
  },
  {
   "cell_type": "code",
   "execution_count": null,
   "metadata": {},
   "outputs": [],
   "source": [
    "figure( figsize=(10,10))  # размер графика - 10х10 едениц\n",
    "seaborn.heatmap( data.corr(),\n",
    "                cmap='coolwarm',  # способ цветового кодирования: холодные и тёплые цвета\n",
    "                annot=True)  # annot=True - показывать не только цвета, но и величну КК"
   ]
  },
  {
   "cell_type": "markdown",
   "metadata": {},
   "source": [
    "Теперь рассмотрим корреляцию между толщиной материала и коэф. звукопоглощения отдельно.\n",
    "\n",
    "Построим диаграмму рассеивания. Точки на этой диаграмме - это отдельные измерения соответствующих величин."
   ]
  },
  {
   "cell_type": "code",
   "execution_count": null,
   "metadata": {},
   "outputs": [],
   "source": [
    "seaborn.jointplot(data=data,  # используемые данные\n",
    "                  x=\"thickness\", y='acoustic1', # какой столбец по какой оси озобразить\n",
    "                  kind='reg')  # reg - изобразить линию регрессии"
   ]
  },
  {
   "cell_type": "markdown",
   "metadata": {},
   "source": [
    "- Точки на графики - это пары значений (thickness и acoustic1)\n",
    "- Каздая пара значений взята из одной строчки таблицы data. Одна строка таблицы - это одно испытание на звукопоглощение.\n",
    "- На графике видно, что большинство значений грубо подходят под проведённую линию. \n",
    "- Эта линия называется **линией регрессии**\n",
    "- Чем ближе КК к 1 или -1, тем больше точек лежит на линии регрессии"
   ]
  },
  {
   "cell_type": "markdown",
   "metadata": {},
   "source": [
    "#### Гипотеза о равенстве КК нулю"
   ]
  },
  {
   "cell_type": "markdown",
   "metadata": {},
   "source": [
    "- Однако, экспериментальные данные - это всего лишь выборка, потому, что исследуется только небольшая часть из всех материалов. Поэтому есть шанс, что полученная зависимость между исследуемыми величинами случайна.\n",
    "\n",
    "- Требуется убедится, что зависимость есть не только в выборке но и в генеральной совокупности.\n",
    "\n",
    "- При построении графика заодно проверяется гипотеза (нулевая гипотеза) о равенстве КК нулю. \n",
    "    - $H_0: r = 0$\n",
    "\n",
    "- Если это равенство подтвердится, значит полученное значение КК получилось именно таким случайно. \n",
    "\n",
    "- Для проверки гипотезы вычисляется p-value. Правило для принятия нулевой гипотезы: \n",
    "    - p-value > 0.05 - нулевая гипотеза принимается.\n",
    "    - p-value < 0.05 - нулевая гипотеза отвергается.\n",
    "\n"
   ]
  },
  {
   "cell_type": "markdown",
   "metadata": {},
   "source": [
    "В примере выше: p-value = 0.0014 < 0.05.\n",
    "Отвергаем нулевую гипотезу о равенстве КК нулю. КК статистически значим. Поэтому будем считать, что такое же значение КК справедливо и для выборки.\n"
   ]
  },
  {
   "cell_type": "markdown",
   "metadata": {},
   "source": [
    "Просмотрим справку по функции, вычисляющей коэффицент корреляции и p-value"
   ]
  },
  {
   "cell_type": "code",
   "execution_count": null,
   "metadata": {},
   "outputs": [],
   "source": [
    "help(pearsonr)"
   ]
  },
  {
   "cell_type": "code",
   "execution_count": null,
   "metadata": {},
   "outputs": [],
   "source": [
    "# вычислим коэффициент корреляции и p-value\n",
    "pearsonr( data[\"thickness\"], data[\"acoustic1\"])"
   ]
  },
  {
   "cell_type": "markdown",
   "metadata": {},
   "source": [
    "В примере выше: p-value = 0.0014 < 0.05.\n",
    "Отвергаем нулевую гипотезу о равенстве КК нулю. КК статистически значим. Поэтому будм считать, что такое же значение КК справделиво и для выборки.\n"
   ]
  },
  {
   "cell_type": "markdown",
   "metadata": {},
   "source": [
    "***\n",
    "Для примера построим ещё и диаграмму рассеивания для величин поглощение звука (acoustic1) и жёсткость (stiffness)"
   ]
  },
  {
   "cell_type": "code",
   "execution_count": null,
   "metadata": {},
   "outputs": [],
   "source": [
    "seaborn.jointplot(data=data, x=\"stiffness\", y=\"acoustic1\", kind='reg')"
   ]
  },
  {
   "cell_type": "markdown",
   "metadata": {},
   "source": [
    "- Здесь точки разбросаны более хаотично, трудно провести линию регрессии, которая подходила бы большинству точек.\n",
    "- Поэтому и КК близок к нулю.\n",
    "- Значит здесь нет заметной статистической зависимости\n",
    "- Это подтверждается проверкой гипотезы о равенстве КК нулю: p-value > 0.05. Значит нет оснований отклонить нулевую гипотезу $H_0: r=0$"
   ]
  },
  {
   "cell_type": "markdown",
   "metadata": {},
   "source": [
    "## Регрессионный анализ\n",
    "**Регрессионный анализ** — статистический метод исследования влияния одной или нескольких независимых переменных $X_1 , X_2 , ... , X_n$ на зависимую переменную Y.\n",
    "\n",
    "\n",
    "- найти функцию, которая отображает зависимость одних переменных или данных от других\n",
    "    - Y = f(x_1, x_2, ..., x_3)\n",
    "- функция строится на основе известных значений переменных\n",
    "- Регрессия полезна для прогнозирования ответа на новые условия\n",
    "\n",
    "\n",
    "\n",
    "\n",
    "\n",
    "Отличия регрессионного анализа от корреляционного:\n",
    "- в корреляционном анализе важен коэффициент корреляции\n",
    "- в регрессионном анализе важно уравнение регрессии, т.е. предсказание значений зависимой переменной"
   ]
  },
  {
   "cell_type": "code",
   "execution_count": null,
   "metadata": {
    "scrolled": true
   },
   "outputs": [],
   "source": [
    "linregress(data['airPerm'], data['acoustic1'])"
   ]
  },
  {
   "cell_type": "markdown",
   "metadata": {},
   "source": [
    "Уравнение будет иметь вид:\n",
    "$$ acoustic1 = slope \\cdot airPerm + intercept $$\n",
    "\n",
    "\n",
    "Теперь им можно пользоватся, чтобы предсказать *среднее* значение *acoustic1*, для заданного значения *airPerm* (и при фиксированых значениях остальных переменных)"
   ]
  },
  {
   "cell_type": "code",
   "execution_count": null,
   "metadata": {},
   "outputs": [],
   "source": [
    "# например вычислим коэф. звукопоглощения1 (acoustic1)\n",
    "# для воздухопроницаемости airPerm 950 mm/s\n",
    "-0.0005196861386681389 * 950 + 0.7918330758205965"
   ]
  },
  {
   "cell_type": "code",
   "execution_count": null,
   "metadata": {},
   "outputs": [],
   "source": [
    "# построим диаграмму рассеивания и линию регрессии\n",
    "seaborn.jointplot(data['airPerm'], data['acoustic1'], kind='reg')\n",
    "\n",
    "# отметим предсказанное значение коэф. звукопоглощения\n",
    "plot(950, 0.2981312440858645, 'o')\n",
    "grid()"
   ]
  },
  {
   "cell_type": "markdown",
   "metadata": {},
   "source": [
    "# Пример 2\n",
    "\n",
    "Concrete Compressive Strength \n",
    "\n",
    "---------------------------------\n",
    "\n",
    "Data Type: multivariate\n",
    " \n",
    "Abstract: Concrete is the most important material in civil engineering. The \n",
    "concrete compressive strength is a highly nonlinear function of age and \n",
    "ingredients. These ingredients include cement, blast furnace slag, fly ash, \n",
    "water, superplasticizer, coarse aggregate, and fine aggregate.\n",
    "\n",
    "---------------------------------\n",
    "\n",
    "Sources: \n",
    "\n",
    "  Original Owner and Donor\n",
    "  Prof. I-Cheng Yeh\n",
    "  Department of Information Management \n",
    "  Chung-Hua University, \n",
    "  Hsin Chu, Taiwan 30067, R.O.C.\n",
    "  e-mail:icyeh@chu.edu.tw\n",
    "  TEL:886-3-5186511\n",
    "\n",
    "  Date Donated: August 3, 2007\n",
    " \n",
    "---------------------------------\n",
    "\n",
    "Data Characteristics:\n",
    "    \n",
    "The actual concrete compressive strength (MPa) for a given mixture under a \n",
    "specific age (days) was determined from laboratory. Data is in raw form (not scaled). \n",
    "\n",
    "Summary Statistics: \n",
    "\n",
    "Number of instances (observations): 1030\n",
    "Number of Attributes: 9\n",
    "Attribute breakdown: 8 quantitative input variables, and 1 quantitative output variable\n",
    "Missing Attribute Values: None\n",
    "\n",
    "---------------------------------\n",
    "\n",
    "Variable Information:\n",
    "\n",
    "Given is the variable name, variable type, the measurement unit and a brief description. \n",
    "The concrete compressive strength is the regression problem. The order of this listing \n",
    "corresponds to the order of numerals along the rows of the database. \n",
    "\n",
    "Name -- Data Type -- Measurement -- Description\n",
    "\n",
    "- Cement (component 1) -- quantitative -- kg in a m3 mixture -- Input Variable\n",
    "- Blast Furnace Slag (доменный шлак, component 2) -- quantitative -- kg in a m3 mixture -- Input Variable\n",
    "- Fly Ash (Летучая зола, component 3) -- quantitative -- kg in a m3 mixture -- Input Variable\n",
    "- Water (вода, component 4) -- quantitative -- kg in a m3 mixture -- Input Variable\n",
    "- Superplasticizer (component 5) -- quantitative -- kg in a m3 mixture -- Input Variable\n",
    "- Coarse Aggregate (заполнитель, component 6) -- quantitative -- kg in a m3 mixture -- Input Variable\n",
    "- Fine Aggregate (мелкий заполнитель, component 7) -- quantitative -- kg in a m3 mixture -- Input Variable\n",
    "- Age (время отведённое на завтердевание) -- quantitative -- Day (1~365) -- Input Variable\n",
    "- Concrete compressive strength (прочность на сжатие) -- quantitative -- MPa -- Output Variable \n",
    "\n",
    "---------------------------------\n",
    "\n",
    "Acknowledgements, Copyright Information, and Availability:\n",
    "\n",
    "NOTE: Reuse of this database is unlimited with retention of copyright notice for \n",
    "Prof. I-Cheng Yeh and the following published paper:\n",
    "\n",
    "I-Cheng Yeh, \"Modeling of strength of high performance concrete using artificial \n",
    "neural networks,\" Cement and Concrete Research, Vol. 28, No. 12, pp. 1797-1808 (1998)\n",
    "\n",
    "\n",
    "\n"
   ]
  },
  {
   "cell_type": "code",
   "execution_count": null,
   "metadata": {},
   "outputs": [],
   "source": [
    "data2 = pd.read_csv(\"Concrete_Data.csv\", header=0, comment='#', delimiter=';')\n",
    "# здесь один столбец отделён от другого точкой с запятой (;), а не запятой, \n",
    "# поэтому чтобы данные загрузились корректно, укажем разделитель: delimiter=';'"
   ]
  },
  {
   "cell_type": "code",
   "execution_count": null,
   "metadata": {},
   "outputs": [],
   "source": [
    "# названия столбцов очень длинные, поэтому заменим на короткие\n",
    "cols = data2.columns.values\n",
    "cols[0] = \"component1\"\n",
    "cols[1] = \"component2\"\n",
    "cols[2] = \"component3\"\n",
    "cols[3] = \"component4\"\n",
    "cols[4] = \"component5\"\n",
    "cols[5] = \"component6\"\n",
    "cols[6] = \"component7\"\n",
    "cols[7] = \"age\"\n",
    "cols[8] = \"strength\"\n",
    "data2.columns = cols"
   ]
  },
  {
   "cell_type": "code",
   "execution_count": null,
   "metadata": {},
   "outputs": [],
   "source": [
    "# удалим последний столбец, он без данных\n",
    "data2 = data2.drop(columns=['Unnamed: 9'])"
   ]
  },
  {
   "cell_type": "code",
   "execution_count": null,
   "metadata": {
    "scrolled": true
   },
   "outputs": [],
   "source": [
    "data2.head()"
   ]
  },
  {
   "cell_type": "code",
   "execution_count": null,
   "metadata": {},
   "outputs": [],
   "source": [
    "data2.info()"
   ]
  },
  {
   "cell_type": "code",
   "execution_count": null,
   "metadata": {},
   "outputs": [],
   "source": [
    "figure( figsize=(10,10) )\n",
    "seaborn.heatmap( data2.corr(), cmap='coolwarm', annot = True )"
   ]
  },
  {
   "cell_type": "markdown",
   "metadata": {},
   "source": [
    "- Какие части бетонной смеси сильнее всего влияет на его прочность после застывания?\n",
    "- Где зависимость прямая, а где обратная?\n",
    "- Есть ли компоненты смеси, которые мало влияют на прочность?\n",
    "- Как влияет время застывания смеси на прочность бетона?\n",
    "- Как влияет количество воды в смеси на время застывания?"
   ]
  }
 ],
 "metadata": {
  "kernelspec": {
   "display_name": "Python 3",
   "language": "python",
   "name": "python3"
  },
  "language_info": {
   "codemirror_mode": {
    "name": "ipython",
    "version": 3
   },
   "file_extension": ".py",
   "mimetype": "text/x-python",
   "name": "python",
   "nbconvert_exporter": "python",
   "pygments_lexer": "ipython3",
   "version": "3.6.8"
  }
 },
 "nbformat": 4,
 "nbformat_minor": 2
}
