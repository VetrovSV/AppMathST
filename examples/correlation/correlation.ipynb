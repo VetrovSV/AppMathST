{
 "cells": [
  {
   "cell_type": "markdown",
   "metadata": {},
   "source": [
    "# Корреляция"
   ]
  },
  {
   "cell_type": "code",
   "execution_count": null,
   "metadata": {},
   "outputs": [],
   "source": [
    "# раскомментирвоть (убрать символ #) строки ниже для установки модулей в mybinder.org\n",
    "# !pip install scipy\n",
    "# !pip install seaborn\n",
    "# !pip install pandas"
   ]
  },
  {
   "cell_type": "code",
   "execution_count": 20,
   "metadata": {},
   "outputs": [],
   "source": [
    "import pandas as pd     # для загрузки и хранения данных в таблице (DataFrame)\n",
    "import seaborn          # для построения графиков\n",
    "from matplotlib.pyplot import *   # для построения графиков\n",
    "\n",
    "from scipy.stats import linregress, pearsonr    # для построения уравнения регрессии\n",
    "import numpy as np"
   ]
  },
  {
   "cell_type": "markdown",
   "metadata": {},
   "source": [
    "## Пример 1\n",
    "Поглощение звука материалами в зависимости от их свойств (толщина, масса, жесткость и др.)\n",
    "\n",
    "Источник данных: \n",
    "http://users.stat.ufl.edu/~winner/datasets.html\n",
    "\n",
    "\n",
    "Описание данных:\n",
    "\n",
    "Description: Acoustic absorption coefficients of 24 woven fabrics\n",
    "with different air gap distances (d=0,1,2,3,cm)\n",
    "\n",
    "Responses: \n",
    "\n",
    "- acoustic0  (d=0 cm)\n",
    "- acoustic1\n",
    "- acoustic2\n",
    "- acoustic3\n",
    "\n",
    "\n",
    "Predictors:\n",
    "\n",
    "- thickness   (mm)\n",
    "- diameter    (mm)\n",
    "- perforation (%)\n",
    "- weight      (g/m^2)\n",
    "- stiffness   (mN x cm)\n",
    "- airPerm     (air permeability, mm/s) "
   ]
  },
  {
   "cell_type": "code",
   "execution_count": 2,
   "metadata": {},
   "outputs": [],
   "source": [
    "# загрузка данных из файла fabricsoundabsorb.csv \n",
    "# это текстовый файл с данными расположеными в столбцах\n",
    "# header = 0 - заголовок для столбцов это нелувая (персвая посчёту строка)\n",
    "# comment='#' решеткой в начале строки помечаны дополнительная, справочная, информация\n",
    "# в файле, они будут проигнорированы при загрузке.\n",
    "\n",
    "data = pd.read_csv(\"fabricsoundabsorb.csv\", comment='#', header=0)\n",
    "\n",
    "# данные будут загружены в переменную data"
   ]
  },
  {
   "cell_type": "code",
   "execution_count": 3,
   "metadata": {},
   "outputs": [
    {
     "data": {
      "text/html": [
       "<div>\n",
       "<style scoped>\n",
       "    .dataframe tbody tr th:only-of-type {\n",
       "        vertical-align: middle;\n",
       "    }\n",
       "\n",
       "    .dataframe tbody tr th {\n",
       "        vertical-align: top;\n",
       "    }\n",
       "\n",
       "    .dataframe thead th {\n",
       "        text-align: right;\n",
       "    }\n",
       "</style>\n",
       "<table border=\"1\" class=\"dataframe\">\n",
       "  <thead>\n",
       "    <tr style=\"text-align: right;\">\n",
       "      <th></th>\n",
       "      <th>sampleID</th>\n",
       "      <th>thickness</th>\n",
       "      <th>diameter</th>\n",
       "      <th>perforation</th>\n",
       "      <th>weight</th>\n",
       "      <th>stiffness</th>\n",
       "      <th>airPerm</th>\n",
       "      <th>acoustic0</th>\n",
       "      <th>acoustic1</th>\n",
       "      <th>acoustic2</th>\n",
       "      <th>acoustic3</th>\n",
       "    </tr>\n",
       "  </thead>\n",
       "  <tbody>\n",
       "    <tr>\n",
       "      <th>0</th>\n",
       "      <td>1</td>\n",
       "      <td>0.547</td>\n",
       "      <td>0.269</td>\n",
       "      <td>6.14</td>\n",
       "      <td>247</td>\n",
       "      <td>181.90</td>\n",
       "      <td>805.4</td>\n",
       "      <td>0.076</td>\n",
       "      <td>0.330</td>\n",
       "      <td>0.413</td>\n",
       "      <td>0.313</td>\n",
       "    </tr>\n",
       "    <tr>\n",
       "      <th>1</th>\n",
       "      <td>2</td>\n",
       "      <td>0.541</td>\n",
       "      <td>0.378</td>\n",
       "      <td>6.08</td>\n",
       "      <td>253</td>\n",
       "      <td>74.40</td>\n",
       "      <td>887.8</td>\n",
       "      <td>0.092</td>\n",
       "      <td>0.339</td>\n",
       "      <td>0.347</td>\n",
       "      <td>0.261</td>\n",
       "    </tr>\n",
       "    <tr>\n",
       "      <th>2</th>\n",
       "      <td>3</td>\n",
       "      <td>0.875</td>\n",
       "      <td>0.584</td>\n",
       "      <td>4.97</td>\n",
       "      <td>366</td>\n",
       "      <td>71.41</td>\n",
       "      <td>598.4</td>\n",
       "      <td>0.129</td>\n",
       "      <td>0.455</td>\n",
       "      <td>0.411</td>\n",
       "      <td>0.316</td>\n",
       "    </tr>\n",
       "    <tr>\n",
       "      <th>3</th>\n",
       "      <td>4</td>\n",
       "      <td>0.640</td>\n",
       "      <td>0.527</td>\n",
       "      <td>4.87</td>\n",
       "      <td>319</td>\n",
       "      <td>161.50</td>\n",
       "      <td>799.2</td>\n",
       "      <td>0.115</td>\n",
       "      <td>0.433</td>\n",
       "      <td>0.427</td>\n",
       "      <td>0.321</td>\n",
       "    </tr>\n",
       "    <tr>\n",
       "      <th>4</th>\n",
       "      <td>5</td>\n",
       "      <td>0.750</td>\n",
       "      <td>0.534</td>\n",
       "      <td>4.51</td>\n",
       "      <td>292</td>\n",
       "      <td>156.20</td>\n",
       "      <td>753.2</td>\n",
       "      <td>0.095</td>\n",
       "      <td>0.362</td>\n",
       "      <td>0.382</td>\n",
       "      <td>0.273</td>\n",
       "    </tr>\n",
       "    <tr>\n",
       "      <th>5</th>\n",
       "      <td>6</td>\n",
       "      <td>0.539</td>\n",
       "      <td>0.368</td>\n",
       "      <td>4.39</td>\n",
       "      <td>232</td>\n",
       "      <td>171.50</td>\n",
       "      <td>704.0</td>\n",
       "      <td>0.073</td>\n",
       "      <td>0.371</td>\n",
       "      <td>0.422</td>\n",
       "      <td>0.312</td>\n",
       "    </tr>\n",
       "    <tr>\n",
       "      <th>6</th>\n",
       "      <td>7</td>\n",
       "      <td>0.809</td>\n",
       "      <td>0.534</td>\n",
       "      <td>4.13</td>\n",
       "      <td>368</td>\n",
       "      <td>202.90</td>\n",
       "      <td>655.3</td>\n",
       "      <td>0.160</td>\n",
       "      <td>0.479</td>\n",
       "      <td>0.430</td>\n",
       "      <td>0.343</td>\n",
       "    </tr>\n",
       "    <tr>\n",
       "      <th>7</th>\n",
       "      <td>8</td>\n",
       "      <td>0.798</td>\n",
       "      <td>0.516</td>\n",
       "      <td>3.78</td>\n",
       "      <td>371</td>\n",
       "      <td>171.36</td>\n",
       "      <td>679.6</td>\n",
       "      <td>0.121</td>\n",
       "      <td>0.444</td>\n",
       "      <td>0.415</td>\n",
       "      <td>0.318</td>\n",
       "    </tr>\n",
       "    <tr>\n",
       "      <th>8</th>\n",
       "      <td>9</td>\n",
       "      <td>0.526</td>\n",
       "      <td>0.348</td>\n",
       "      <td>3.67</td>\n",
       "      <td>229</td>\n",
       "      <td>91.10</td>\n",
       "      <td>748.6</td>\n",
       "      <td>0.074</td>\n",
       "      <td>0.361</td>\n",
       "      <td>0.406</td>\n",
       "      <td>0.298</td>\n",
       "    </tr>\n",
       "    <tr>\n",
       "      <th>9</th>\n",
       "      <td>10</td>\n",
       "      <td>0.645</td>\n",
       "      <td>0.377</td>\n",
       "      <td>3.46</td>\n",
       "      <td>288</td>\n",
       "      <td>81.30</td>\n",
       "      <td>628.8</td>\n",
       "      <td>0.165</td>\n",
       "      <td>0.520</td>\n",
       "      <td>0.502</td>\n",
       "      <td>0.402</td>\n",
       "    </tr>\n",
       "    <tr>\n",
       "      <th>10</th>\n",
       "      <td>11</td>\n",
       "      <td>0.812</td>\n",
       "      <td>0.483</td>\n",
       "      <td>3.32</td>\n",
       "      <td>324</td>\n",
       "      <td>136.69</td>\n",
       "      <td>670.4</td>\n",
       "      <td>0.125</td>\n",
       "      <td>0.466</td>\n",
       "      <td>0.449</td>\n",
       "      <td>0.336</td>\n",
       "    </tr>\n",
       "    <tr>\n",
       "      <th>11</th>\n",
       "      <td>12</td>\n",
       "      <td>0.823</td>\n",
       "      <td>0.572</td>\n",
       "      <td>3.17</td>\n",
       "      <td>367</td>\n",
       "      <td>75.37</td>\n",
       "      <td>602.8</td>\n",
       "      <td>0.123</td>\n",
       "      <td>0.518</td>\n",
       "      <td>0.495</td>\n",
       "      <td>0.378</td>\n",
       "    </tr>\n",
       "    <tr>\n",
       "      <th>12</th>\n",
       "      <td>13</td>\n",
       "      <td>0.746</td>\n",
       "      <td>0.554</td>\n",
       "      <td>3.05</td>\n",
       "      <td>306</td>\n",
       "      <td>161.80</td>\n",
       "      <td>534.7</td>\n",
       "      <td>0.086</td>\n",
       "      <td>0.468</td>\n",
       "      <td>0.452</td>\n",
       "      <td>0.329</td>\n",
       "    </tr>\n",
       "    <tr>\n",
       "      <th>13</th>\n",
       "      <td>14</td>\n",
       "      <td>0.769</td>\n",
       "      <td>0.458</td>\n",
       "      <td>3.04</td>\n",
       "      <td>345</td>\n",
       "      <td>248.10</td>\n",
       "      <td>456.7</td>\n",
       "      <td>0.075</td>\n",
       "      <td>0.476</td>\n",
       "      <td>0.465</td>\n",
       "      <td>0.351</td>\n",
       "    </tr>\n",
       "    <tr>\n",
       "      <th>14</th>\n",
       "      <td>15</td>\n",
       "      <td>0.719</td>\n",
       "      <td>0.553</td>\n",
       "      <td>2.94</td>\n",
       "      <td>301</td>\n",
       "      <td>100.90</td>\n",
       "      <td>547.1</td>\n",
       "      <td>0.109</td>\n",
       "      <td>0.516</td>\n",
       "      <td>0.528</td>\n",
       "      <td>0.399</td>\n",
       "    </tr>\n",
       "    <tr>\n",
       "      <th>15</th>\n",
       "      <td>16</td>\n",
       "      <td>0.768</td>\n",
       "      <td>0.535</td>\n",
       "      <td>2.74</td>\n",
       "      <td>326</td>\n",
       "      <td>180.40</td>\n",
       "      <td>522.3</td>\n",
       "      <td>0.109</td>\n",
       "      <td>0.506</td>\n",
       "      <td>0.506</td>\n",
       "      <td>0.374</td>\n",
       "    </tr>\n",
       "    <tr>\n",
       "      <th>16</th>\n",
       "      <td>17</td>\n",
       "      <td>0.869</td>\n",
       "      <td>0.522</td>\n",
       "      <td>2.60</td>\n",
       "      <td>373</td>\n",
       "      <td>275.56</td>\n",
       "      <td>611.2</td>\n",
       "      <td>0.132</td>\n",
       "      <td>0.545</td>\n",
       "      <td>0.546</td>\n",
       "      <td>0.413</td>\n",
       "    </tr>\n",
       "    <tr>\n",
       "      <th>17</th>\n",
       "      <td>18</td>\n",
       "      <td>0.838</td>\n",
       "      <td>0.501</td>\n",
       "      <td>2.46</td>\n",
       "      <td>315</td>\n",
       "      <td>142.13</td>\n",
       "      <td>411.9</td>\n",
       "      <td>0.189</td>\n",
       "      <td>0.610</td>\n",
       "      <td>0.585</td>\n",
       "      <td>0.464</td>\n",
       "    </tr>\n",
       "    <tr>\n",
       "      <th>18</th>\n",
       "      <td>19</td>\n",
       "      <td>0.691</td>\n",
       "      <td>0.314</td>\n",
       "      <td>2.46</td>\n",
       "      <td>248</td>\n",
       "      <td>68.70</td>\n",
       "      <td>555.3</td>\n",
       "      <td>0.074</td>\n",
       "      <td>0.452</td>\n",
       "      <td>0.510</td>\n",
       "      <td>0.383</td>\n",
       "    </tr>\n",
       "    <tr>\n",
       "      <th>19</th>\n",
       "      <td>20</td>\n",
       "      <td>0.931</td>\n",
       "      <td>0.397</td>\n",
       "      <td>2.43</td>\n",
       "      <td>356</td>\n",
       "      <td>170.24</td>\n",
       "      <td>482.1</td>\n",
       "      <td>0.166</td>\n",
       "      <td>0.587</td>\n",
       "      <td>0.540</td>\n",
       "      <td>0.435</td>\n",
       "    </tr>\n",
       "    <tr>\n",
       "      <th>20</th>\n",
       "      <td>21</td>\n",
       "      <td>0.774</td>\n",
       "      <td>0.306</td>\n",
       "      <td>2.42</td>\n",
       "      <td>273</td>\n",
       "      <td>82.11</td>\n",
       "      <td>436.4</td>\n",
       "      <td>0.162</td>\n",
       "      <td>0.617</td>\n",
       "      <td>0.600</td>\n",
       "      <td>0.473</td>\n",
       "    </tr>\n",
       "    <tr>\n",
       "      <th>21</th>\n",
       "      <td>22</td>\n",
       "      <td>0.773</td>\n",
       "      <td>0.258</td>\n",
       "      <td>1.65</td>\n",
       "      <td>245</td>\n",
       "      <td>49.60</td>\n",
       "      <td>401.5</td>\n",
       "      <td>0.095</td>\n",
       "      <td>0.541</td>\n",
       "      <td>0.626</td>\n",
       "      <td>0.483</td>\n",
       "    </tr>\n",
       "    <tr>\n",
       "      <th>22</th>\n",
       "      <td>23</td>\n",
       "      <td>0.539</td>\n",
       "      <td>0.261</td>\n",
       "      <td>1.58</td>\n",
       "      <td>228</td>\n",
       "      <td>93.14</td>\n",
       "      <td>421.1</td>\n",
       "      <td>0.100</td>\n",
       "      <td>0.550</td>\n",
       "      <td>0.610</td>\n",
       "      <td>0.483</td>\n",
       "    </tr>\n",
       "    <tr>\n",
       "      <th>23</th>\n",
       "      <td>24</td>\n",
       "      <td>0.802</td>\n",
       "      <td>0.220</td>\n",
       "      <td>1.21</td>\n",
       "      <td>276</td>\n",
       "      <td>87.17</td>\n",
       "      <td>519.9</td>\n",
       "      <td>0.146</td>\n",
       "      <td>0.557</td>\n",
       "      <td>0.534</td>\n",
       "      <td>0.420</td>\n",
       "    </tr>\n",
       "  </tbody>\n",
       "</table>\n",
       "</div>"
      ],
      "text/plain": [
       "    sampleID  thickness  diameter  perforation  weight  stiffness  airPerm  \\\n",
       "0          1      0.547     0.269         6.14     247     181.90    805.4   \n",
       "1          2      0.541     0.378         6.08     253      74.40    887.8   \n",
       "2          3      0.875     0.584         4.97     366      71.41    598.4   \n",
       "3          4      0.640     0.527         4.87     319     161.50    799.2   \n",
       "4          5      0.750     0.534         4.51     292     156.20    753.2   \n",
       "5          6      0.539     0.368         4.39     232     171.50    704.0   \n",
       "6          7      0.809     0.534         4.13     368     202.90    655.3   \n",
       "7          8      0.798     0.516         3.78     371     171.36    679.6   \n",
       "8          9      0.526     0.348         3.67     229      91.10    748.6   \n",
       "9         10      0.645     0.377         3.46     288      81.30    628.8   \n",
       "10        11      0.812     0.483         3.32     324     136.69    670.4   \n",
       "11        12      0.823     0.572         3.17     367      75.37    602.8   \n",
       "12        13      0.746     0.554         3.05     306     161.80    534.7   \n",
       "13        14      0.769     0.458         3.04     345     248.10    456.7   \n",
       "14        15      0.719     0.553         2.94     301     100.90    547.1   \n",
       "15        16      0.768     0.535         2.74     326     180.40    522.3   \n",
       "16        17      0.869     0.522         2.60     373     275.56    611.2   \n",
       "17        18      0.838     0.501         2.46     315     142.13    411.9   \n",
       "18        19      0.691     0.314         2.46     248      68.70    555.3   \n",
       "19        20      0.931     0.397         2.43     356     170.24    482.1   \n",
       "20        21      0.774     0.306         2.42     273      82.11    436.4   \n",
       "21        22      0.773     0.258         1.65     245      49.60    401.5   \n",
       "22        23      0.539     0.261         1.58     228      93.14    421.1   \n",
       "23        24      0.802     0.220         1.21     276      87.17    519.9   \n",
       "\n",
       "    acoustic0  acoustic1  acoustic2  acoustic3  \n",
       "0       0.076      0.330      0.413      0.313  \n",
       "1       0.092      0.339      0.347      0.261  \n",
       "2       0.129      0.455      0.411      0.316  \n",
       "3       0.115      0.433      0.427      0.321  \n",
       "4       0.095      0.362      0.382      0.273  \n",
       "5       0.073      0.371      0.422      0.312  \n",
       "6       0.160      0.479      0.430      0.343  \n",
       "7       0.121      0.444      0.415      0.318  \n",
       "8       0.074      0.361      0.406      0.298  \n",
       "9       0.165      0.520      0.502      0.402  \n",
       "10      0.125      0.466      0.449      0.336  \n",
       "11      0.123      0.518      0.495      0.378  \n",
       "12      0.086      0.468      0.452      0.329  \n",
       "13      0.075      0.476      0.465      0.351  \n",
       "14      0.109      0.516      0.528      0.399  \n",
       "15      0.109      0.506      0.506      0.374  \n",
       "16      0.132      0.545      0.546      0.413  \n",
       "17      0.189      0.610      0.585      0.464  \n",
       "18      0.074      0.452      0.510      0.383  \n",
       "19      0.166      0.587      0.540      0.435  \n",
       "20      0.162      0.617      0.600      0.473  \n",
       "21      0.095      0.541      0.626      0.483  \n",
       "22      0.100      0.550      0.610      0.483  \n",
       "23      0.146      0.557      0.534      0.420  "
      ]
     },
     "execution_count": 3,
     "metadata": {},
     "output_type": "execute_result"
    }
   ],
   "source": [
    "# напечатаем эти данные\n",
    "data"
   ]
  },
  {
   "cell_type": "markdown",
   "metadata": {},
   "source": [
    "Загруженные данные -- это таблица.\n",
    "\n",
    "Столбец  sampleID -- это номер образца материала. Для вычисления КК это число бесполезно, поэтому удалим столбец из таблицы.\n",
    "\n"
   ]
  },
  {
   "cell_type": "code",
   "execution_count": 4,
   "metadata": {},
   "outputs": [],
   "source": [
    "data = data.drop(columns=['sampleID'])"
   ]
  },
  {
   "cell_type": "code",
   "execution_count": 5,
   "metadata": {},
   "outputs": [
    {
     "data": {
      "text/html": [
       "<div>\n",
       "<style scoped>\n",
       "    .dataframe tbody tr th:only-of-type {\n",
       "        vertical-align: middle;\n",
       "    }\n",
       "\n",
       "    .dataframe tbody tr th {\n",
       "        vertical-align: top;\n",
       "    }\n",
       "\n",
       "    .dataframe thead th {\n",
       "        text-align: right;\n",
       "    }\n",
       "</style>\n",
       "<table border=\"1\" class=\"dataframe\">\n",
       "  <thead>\n",
       "    <tr style=\"text-align: right;\">\n",
       "      <th></th>\n",
       "      <th>thickness</th>\n",
       "      <th>diameter</th>\n",
       "      <th>perforation</th>\n",
       "      <th>weight</th>\n",
       "      <th>stiffness</th>\n",
       "      <th>airPerm</th>\n",
       "      <th>acoustic0</th>\n",
       "      <th>acoustic1</th>\n",
       "      <th>acoustic2</th>\n",
       "      <th>acoustic3</th>\n",
       "    </tr>\n",
       "  </thead>\n",
       "  <tbody>\n",
       "    <tr>\n",
       "      <th>0</th>\n",
       "      <td>0.547</td>\n",
       "      <td>0.269</td>\n",
       "      <td>6.14</td>\n",
       "      <td>247</td>\n",
       "      <td>181.90</td>\n",
       "      <td>805.4</td>\n",
       "      <td>0.076</td>\n",
       "      <td>0.330</td>\n",
       "      <td>0.413</td>\n",
       "      <td>0.313</td>\n",
       "    </tr>\n",
       "    <tr>\n",
       "      <th>1</th>\n",
       "      <td>0.541</td>\n",
       "      <td>0.378</td>\n",
       "      <td>6.08</td>\n",
       "      <td>253</td>\n",
       "      <td>74.40</td>\n",
       "      <td>887.8</td>\n",
       "      <td>0.092</td>\n",
       "      <td>0.339</td>\n",
       "      <td>0.347</td>\n",
       "      <td>0.261</td>\n",
       "    </tr>\n",
       "    <tr>\n",
       "      <th>2</th>\n",
       "      <td>0.875</td>\n",
       "      <td>0.584</td>\n",
       "      <td>4.97</td>\n",
       "      <td>366</td>\n",
       "      <td>71.41</td>\n",
       "      <td>598.4</td>\n",
       "      <td>0.129</td>\n",
       "      <td>0.455</td>\n",
       "      <td>0.411</td>\n",
       "      <td>0.316</td>\n",
       "    </tr>\n",
       "    <tr>\n",
       "      <th>3</th>\n",
       "      <td>0.640</td>\n",
       "      <td>0.527</td>\n",
       "      <td>4.87</td>\n",
       "      <td>319</td>\n",
       "      <td>161.50</td>\n",
       "      <td>799.2</td>\n",
       "      <td>0.115</td>\n",
       "      <td>0.433</td>\n",
       "      <td>0.427</td>\n",
       "      <td>0.321</td>\n",
       "    </tr>\n",
       "    <tr>\n",
       "      <th>4</th>\n",
       "      <td>0.750</td>\n",
       "      <td>0.534</td>\n",
       "      <td>4.51</td>\n",
       "      <td>292</td>\n",
       "      <td>156.20</td>\n",
       "      <td>753.2</td>\n",
       "      <td>0.095</td>\n",
       "      <td>0.362</td>\n",
       "      <td>0.382</td>\n",
       "      <td>0.273</td>\n",
       "    </tr>\n",
       "  </tbody>\n",
       "</table>\n",
       "</div>"
      ],
      "text/plain": [
       "   thickness  diameter  perforation  weight  stiffness  airPerm  acoustic0  \\\n",
       "0      0.547     0.269         6.14     247     181.90    805.4      0.076   \n",
       "1      0.541     0.378         6.08     253      74.40    887.8      0.092   \n",
       "2      0.875     0.584         4.97     366      71.41    598.4      0.129   \n",
       "3      0.640     0.527         4.87     319     161.50    799.2      0.115   \n",
       "4      0.750     0.534         4.51     292     156.20    753.2      0.095   \n",
       "\n",
       "   acoustic1  acoustic2  acoustic3  \n",
       "0      0.330      0.413      0.313  \n",
       "1      0.339      0.347      0.261  \n",
       "2      0.455      0.411      0.316  \n",
       "3      0.433      0.427      0.321  \n",
       "4      0.362      0.382      0.273  "
      ]
     },
     "execution_count": 5,
     "metadata": {},
     "output_type": "execute_result"
    }
   ],
   "source": [
    "# завново напечатем данные, но только первые 10 строк\n",
    "data.head()"
   ]
  },
  {
   "cell_type": "markdown",
   "metadata": {},
   "source": [
    "### Корреляционный анализ"
   ]
  },
  {
   "cell_type": "markdown",
   "metadata": {},
   "source": [
    "**Корреляционный анализ** — метод обработки статистических данных, с помощью которого измеряется теснота связи между двумя или более переменными.\n",
    "\n",
    "**Корреляционный анализ** — метод обработки статистических данных, заключающийся в изучении коэффициентов корреляции между переменными. "
   ]
  },
  {
   "cell_type": "markdown",
   "metadata": {},
   "source": [
    "Вычислим и выведем коэффициенты корреляции для каждого столбца таблицы с каждым.\n",
    "Нижеприведенная таблица называется **матрицей корреляции**."
   ]
  },
  {
   "cell_type": "code",
   "execution_count": 6,
   "metadata": {},
   "outputs": [
    {
     "data": {
      "text/html": [
       "<div>\n",
       "<style scoped>\n",
       "    .dataframe tbody tr th:only-of-type {\n",
       "        vertical-align: middle;\n",
       "    }\n",
       "\n",
       "    .dataframe tbody tr th {\n",
       "        vertical-align: top;\n",
       "    }\n",
       "\n",
       "    .dataframe thead th {\n",
       "        text-align: right;\n",
       "    }\n",
       "</style>\n",
       "<table border=\"1\" class=\"dataframe\">\n",
       "  <thead>\n",
       "    <tr style=\"text-align: right;\">\n",
       "      <th></th>\n",
       "      <th>thickness</th>\n",
       "      <th>diameter</th>\n",
       "      <th>perforation</th>\n",
       "      <th>weight</th>\n",
       "      <th>stiffness</th>\n",
       "      <th>airPerm</th>\n",
       "      <th>acoustic0</th>\n",
       "      <th>acoustic1</th>\n",
       "      <th>acoustic2</th>\n",
       "      <th>acoustic3</th>\n",
       "    </tr>\n",
       "  </thead>\n",
       "  <tbody>\n",
       "    <tr>\n",
       "      <th>thickness</th>\n",
       "      <td>1.000000</td>\n",
       "      <td>0.457714</td>\n",
       "      <td>-0.396989</td>\n",
       "      <td>0.789977</td>\n",
       "      <td>0.217681</td>\n",
       "      <td>-0.481234</td>\n",
       "      <td>0.601599</td>\n",
       "      <td>0.613085</td>\n",
       "      <td>0.312926</td>\n",
       "      <td>0.325604</td>\n",
       "    </tr>\n",
       "    <tr>\n",
       "      <th>diameter</th>\n",
       "      <td>0.457714</td>\n",
       "      <td>1.000000</td>\n",
       "      <td>0.262532</td>\n",
       "      <td>0.766669</td>\n",
       "      <td>0.383282</td>\n",
       "      <td>0.149979</td>\n",
       "      <td>0.163440</td>\n",
       "      <td>-0.037185</td>\n",
       "      <td>-0.342026</td>\n",
       "      <td>-0.364418</td>\n",
       "    </tr>\n",
       "    <tr>\n",
       "      <th>perforation</th>\n",
       "      <td>-0.396989</td>\n",
       "      <td>0.262532</td>\n",
       "      <td>1.000000</td>\n",
       "      <td>0.011410</td>\n",
       "      <td>0.141421</td>\n",
       "      <td>0.858963</td>\n",
       "      <td>-0.292417</td>\n",
       "      <td>-0.809441</td>\n",
       "      <td>-0.855756</td>\n",
       "      <td>-0.827111</td>\n",
       "    </tr>\n",
       "    <tr>\n",
       "      <th>weight</th>\n",
       "      <td>0.789977</td>\n",
       "      <td>0.766669</td>\n",
       "      <td>0.011410</td>\n",
       "      <td>1.000000</td>\n",
       "      <td>0.483325</td>\n",
       "      <td>-0.087659</td>\n",
       "      <td>0.478649</td>\n",
       "      <td>0.298981</td>\n",
       "      <td>-0.088102</td>\n",
       "      <td>-0.058859</td>\n",
       "    </tr>\n",
       "    <tr>\n",
       "      <th>stiffness</th>\n",
       "      <td>0.217681</td>\n",
       "      <td>0.383282</td>\n",
       "      <td>0.141421</td>\n",
       "      <td>0.483325</td>\n",
       "      <td>1.000000</td>\n",
       "      <td>0.103397</td>\n",
       "      <td>-0.019329</td>\n",
       "      <td>-0.082112</td>\n",
       "      <td>-0.193223</td>\n",
       "      <td>-0.208397</td>\n",
       "    </tr>\n",
       "    <tr>\n",
       "      <th>airPerm</th>\n",
       "      <td>-0.481234</td>\n",
       "      <td>0.149979</td>\n",
       "      <td>0.858963</td>\n",
       "      <td>-0.087659</td>\n",
       "      <td>0.103397</td>\n",
       "      <td>1.000000</td>\n",
       "      <td>-0.335918</td>\n",
       "      <td>-0.851782</td>\n",
       "      <td>-0.866430</td>\n",
       "      <td>-0.853823</td>\n",
       "    </tr>\n",
       "    <tr>\n",
       "      <th>acoustic0</th>\n",
       "      <td>0.601599</td>\n",
       "      <td>0.163440</td>\n",
       "      <td>-0.292417</td>\n",
       "      <td>0.478649</td>\n",
       "      <td>-0.019329</td>\n",
       "      <td>-0.335918</td>\n",
       "      <td>1.000000</td>\n",
       "      <td>0.709170</td>\n",
       "      <td>0.402691</td>\n",
       "      <td>0.492771</td>\n",
       "    </tr>\n",
       "    <tr>\n",
       "      <th>acoustic1</th>\n",
       "      <td>0.613085</td>\n",
       "      <td>-0.037185</td>\n",
       "      <td>-0.809441</td>\n",
       "      <td>0.298981</td>\n",
       "      <td>-0.082112</td>\n",
       "      <td>-0.851782</td>\n",
       "      <td>0.709170</td>\n",
       "      <td>1.000000</td>\n",
       "      <td>0.879278</td>\n",
       "      <td>0.901899</td>\n",
       "    </tr>\n",
       "    <tr>\n",
       "      <th>acoustic2</th>\n",
       "      <td>0.312926</td>\n",
       "      <td>-0.342026</td>\n",
       "      <td>-0.855756</td>\n",
       "      <td>-0.088102</td>\n",
       "      <td>-0.193223</td>\n",
       "      <td>-0.866430</td>\n",
       "      <td>0.402691</td>\n",
       "      <td>0.879278</td>\n",
       "      <td>1.000000</td>\n",
       "      <td>0.989045</td>\n",
       "    </tr>\n",
       "    <tr>\n",
       "      <th>acoustic3</th>\n",
       "      <td>0.325604</td>\n",
       "      <td>-0.364418</td>\n",
       "      <td>-0.827111</td>\n",
       "      <td>-0.058859</td>\n",
       "      <td>-0.208397</td>\n",
       "      <td>-0.853823</td>\n",
       "      <td>0.492771</td>\n",
       "      <td>0.901899</td>\n",
       "      <td>0.989045</td>\n",
       "      <td>1.000000</td>\n",
       "    </tr>\n",
       "  </tbody>\n",
       "</table>\n",
       "</div>"
      ],
      "text/plain": [
       "             thickness  diameter  perforation    weight  stiffness   airPerm  \\\n",
       "thickness     1.000000  0.457714    -0.396989  0.789977   0.217681 -0.481234   \n",
       "diameter      0.457714  1.000000     0.262532  0.766669   0.383282  0.149979   \n",
       "perforation  -0.396989  0.262532     1.000000  0.011410   0.141421  0.858963   \n",
       "weight        0.789977  0.766669     0.011410  1.000000   0.483325 -0.087659   \n",
       "stiffness     0.217681  0.383282     0.141421  0.483325   1.000000  0.103397   \n",
       "airPerm      -0.481234  0.149979     0.858963 -0.087659   0.103397  1.000000   \n",
       "acoustic0     0.601599  0.163440    -0.292417  0.478649  -0.019329 -0.335918   \n",
       "acoustic1     0.613085 -0.037185    -0.809441  0.298981  -0.082112 -0.851782   \n",
       "acoustic2     0.312926 -0.342026    -0.855756 -0.088102  -0.193223 -0.866430   \n",
       "acoustic3     0.325604 -0.364418    -0.827111 -0.058859  -0.208397 -0.853823   \n",
       "\n",
       "             acoustic0  acoustic1  acoustic2  acoustic3  \n",
       "thickness     0.601599   0.613085   0.312926   0.325604  \n",
       "diameter      0.163440  -0.037185  -0.342026  -0.364418  \n",
       "perforation  -0.292417  -0.809441  -0.855756  -0.827111  \n",
       "weight        0.478649   0.298981  -0.088102  -0.058859  \n",
       "stiffness    -0.019329  -0.082112  -0.193223  -0.208397  \n",
       "airPerm      -0.335918  -0.851782  -0.866430  -0.853823  \n",
       "acoustic0     1.000000   0.709170   0.402691   0.492771  \n",
       "acoustic1     0.709170   1.000000   0.879278   0.901899  \n",
       "acoustic2     0.402691   0.879278   1.000000   0.989045  \n",
       "acoustic3     0.492771   0.901899   0.989045   1.000000  "
      ]
     },
     "execution_count": 6,
     "metadata": {},
     "output_type": "execute_result"
    }
   ],
   "source": [
    "data.corr()"
   ]
  },
  {
   "cell_type": "markdown",
   "metadata": {},
   "source": [
    "Рассмотрим например корреляцию между коэф. поглощения звука (acoustic1) и толщиной материала (thickness): пересечение строки thickness и столбца acoustic1, КК  0.613085.\n",
    "\n",
    "- Коэффициент корреляции отличается от нуля, значит существует зависимость между поглощением звука и толщиной материала. \n",
    "- КК положителен, значит эта зависимость прямая\n",
    "- Далее будем обозначать КК буквой **r**.\n",
    "\n",
    "\n",
    "Аналогичным способом можно делать и выводы о кореляции других величин друг от друга."
   ]
  },
  {
   "cell_type": "markdown",
   "metadata": {},
   "source": [
    "Однако можно представить матрицу корреляции и нагляднее. Построим тепловую карту, обозначив величину КК цветом."
   ]
  },
  {
   "cell_type": "code",
   "execution_count": 7,
   "metadata": {},
   "outputs": [
    {
     "data": {
      "text/plain": [
       "<matplotlib.axes._subplots.AxesSubplot at 0x7f75b1378710>"
      ]
     },
     "execution_count": 7,
     "metadata": {},
     "output_type": "execute_result"
    },
    {
     "data": {
      "image/png": "[encoded data removed]",
      "text/plain": [
       "<matplotlib.figure.Figure at 0x7f75b13cef28>"
      ]
     },
     "metadata": {},
     "output_type": "display_data"
    }
   ],
   "source": [
    "figure( figsize=(10,10))  # размер графика - 10х10 едениц\n",
    "seaborn.heatmap( data.corr(),\n",
    "                cmap='coolwarm',  # способ цветового кодирования: холодные и тёплые цвета\n",
    "                annot=True)  # annot=True - показывать не только цвета, но и величну КК"
   ]
  },
  {
   "cell_type": "markdown",
   "metadata": {},
   "source": [
    "Теперь рассмотрим корреляцию между толщиной материала и коэф. звукопоглощения отдельно.\n",
    "\n",
    "Построим диаграмму рассеивания. Точки на этой диаграмме - это отдельные измерения соответствующих величин."
   ]
  },
  {
   "cell_type": "code",
   "execution_count": 8,
   "metadata": {},
   "outputs": [
    {
     "name": "stderr",
     "output_type": "stream",
     "text": [
      "/usr/local/lib/python3.6/dist-packages/scipy/stats/stats.py:1713: FutureWarning: Using a non-tuple sequence for multidimensional indexing is deprecated; use `arr[tuple(seq)]` instead of `arr[seq]`. In the future this will be interpreted as an array index, `arr[np.array(seq)]`, which will result either in an error or a different result.\n",
      "  return np.add.reduce(sorted[indexer] * weights, axis=axis) / sumval\n"
     ]
    },
    {
     "data": {
      "text/plain": [
       "<seaborn.axisgrid.JointGrid at 0x7f75c2bf8780>"
      ]
     },
     "execution_count": 8,
     "metadata": {},
     "output_type": "execute_result"
    },
    {
     "data": {
      "image/png": "[encoded data removed]",
      "text/plain": [
       "<matplotlib.figure.Figure at 0x7f75c2bf8748>"
      ]
     },
     "metadata": {},
     "output_type": "display_data"
    }
   ],
   "source": [
    "seaborn.jointplot(data=data,  # используемые данные\n",
    "                  x=\"thickness\", y='acoustic1', # какой столбец по какой оси озобразить\n",
    "                  kind='reg')  # reg - изобразить линию регрессии"
   ]
  },
  {
   "cell_type": "markdown",
   "metadata": {},
   "source": [
    "- Точки на графики - это пары значений (thickness и acoustic1)\n",
    "- Каздая пара значений взята из одной строчки таблицы data. Одна строка таблицы - это одно испытание на звукопоглощение.\n",
    "- На графике видно, что большинство значений грубо подходят под проведённую линию. \n",
    "- Эта линия называется **линией регрессии**\n",
    "- Чем ближе КК к 1 или -1, тем больше точек лежит на линии регрессии"
   ]
  },
  {
   "cell_type": "markdown",
   "metadata": {},
   "source": [
    "#### Гипотеза о равенстве КК нулю"
   ]
  },
  {
   "cell_type": "markdown",
   "metadata": {},
   "source": [
    "- Однако, экспериментальные данные - это всего лишь выборка, потому, что исследуется только небольшая часть из всех материалов. Поэтому есть шанс, что полученная зависимость между исследуемыми величинами случайна.\n",
    "\n",
    "- Требуется убедится, что зависимость есть не только в выборке но и в генеральной совокупности.\n",
    "\n",
    "- При построении графика заодно проверяется гипотеза (нулевая гипотеза) о равенстве КК нулю. \n",
    "    - $H_0: r = 0$\n",
    "\n",
    "- Если это равенство подтвердится, значит полученное значение КК получилось именно таким случайно. \n",
    "\n",
    "- Для проверки гипотезы вычисляется p-value. Правило для принятия нулевой гипотезы: \n",
    "    - p-value > 0.05 - нулевая гипотеза принимается.\n",
    "    - p-value < 0.05 - нулевая гипотеза отвергается.\n",
    "\n"
   ]
  },
  {
   "cell_type": "markdown",
   "metadata": {},
   "source": [
    "В примере выше: p-value = 0.0014 < 0.05.\n",
    "Отвергаем нулевую гипотезу о равенстве КК нулю. КК статистически значим. Поэтому будем считать, что такое же значение КК справедливо и для выборки.\n"
   ]
  },
  {
   "cell_type": "markdown",
   "metadata": {},
   "source": [
    "Просмотрим справку по функции, вычисляющей коэффицент корреляции и p-value"
   ]
  },
  {
   "cell_type": "code",
   "execution_count": 22,
   "metadata": {},
   "outputs": [
    {
     "name": "stdout",
     "output_type": "stream",
     "text": [
      "Help on function pearsonr in module scipy.stats.stats:\n",
      "\n",
      "pearsonr(x, y)\n",
      "    Calculate a Pearson correlation coefficient and the p-value for testing\n",
      "    non-correlation.\n",
      "    \n",
      "    The Pearson correlation coefficient measures the linear relationship\n",
      "    between two datasets. Strictly speaking, Pearson's correlation requires\n",
      "    that each dataset be normally distributed, and not necessarily zero-mean.\n",
      "    Like other correlation coefficients, this one varies between -1 and +1\n",
      "    with 0 implying no correlation. Correlations of -1 or +1 imply an exact\n",
      "    linear relationship. Positive correlations imply that as x increases, so\n",
      "    does y. Negative correlations imply that as x increases, y decreases.\n",
      "    \n",
      "    The p-value roughly indicates the probability of an uncorrelated system\n",
      "    producing datasets that have a Pearson correlation at least as extreme\n",
      "    as the one computed from these datasets. The p-values are not entirely\n",
      "    reliable but are probably reasonable for datasets larger than 500 or so.\n",
      "    \n",
      "    Parameters\n",
      "    ----------\n",
      "    x : (N,) array_like\n",
      "        Input\n",
      "    y : (N,) array_like\n",
      "        Input\n",
      "    \n",
      "    Returns\n",
      "    -------\n",
      "    r : float\n",
      "        Pearson's correlation coefficient\n",
      "    p-value : float\n",
      "        2-tailed p-value\n",
      "    \n",
      "    Notes\n",
      "    -----\n",
      "    \n",
      "    The correlation coefficient is calculated as follows:\n",
      "    \n",
      "    .. math::\n",
      "    \n",
      "        r_{pb} = \\frac{\\sum (x - m_x) (y - m_y)\n",
      "                       }{\\sqrt{\\sum (x - m_x)^2 (y - m_y)^2}}\n",
      "    \n",
      "    where :math:`m_x` is the mean of the vector :math:`x` and :math:`m_y` is\n",
      "    the mean of the vector :math:`y`.\n",
      "    \n",
      "    \n",
      "    References\n",
      "    ----------\n",
      "    http://www.statsoft.com/textbook/glosp.html#Pearson%20Correlation\n",
      "    \n",
      "    Examples\n",
      "    --------\n",
      "    >>> from scipy import stats\n",
      "    >>> a = np.array([0, 0, 0, 1, 1, 1, 1])\n",
      "    >>> b = np.arange(7)\n",
      "    >>> stats.pearsonr(a, b)\n",
      "    (0.8660254037844386, 0.011724811003954654)\n",
      "    \n",
      "    >>> stats.pearsonr([1,2,3,4,5], [5,6,7,8,7])\n",
      "    (0.83205029433784372, 0.080509573298498519)\n",
      "\n"
     ]
    }
   ],
   "source": [
    "help(pearsonr)"
   ]
  },
  {
   "cell_type": "code",
   "execution_count": 24,
   "metadata": {},
   "outputs": [
    {
     "data": {
      "text/plain": [
       "(0.6130852786221461, 0.0014452775094721312)"
      ]
     },
     "execution_count": 24,
     "metadata": {},
     "output_type": "execute_result"
    }
   ],
   "source": [
    "# вычислим коэффициент корреляции и p-value\n",
    "pearsonr( data[\"thickness\"], data[\"acoustic1\"])"
   ]
  },
  {
   "cell_type": "markdown",
   "metadata": {},
   "source": [
    "В примере выше: p-value = 0.0014 < 0.05.\n",
    "Отвергаем нулевую гипотезу о равенстве КК нулю. КК статистически значим. Поэтому будм считать, что такое же значение КК справделиво и для выборки.\n"
   ]
  },
  {
   "cell_type": "markdown",
   "metadata": {},
   "source": [
    "***\n",
    "Для примера построим ещё и диаграмму рассеивания для величин поглощение звука (acoustic1) и жёсткость (stiffness)"
   ]
  },
  {
   "cell_type": "code",
   "execution_count": 9,
   "metadata": {},
   "outputs": [
    {
     "name": "stderr",
     "output_type": "stream",
     "text": [
      "/usr/local/lib/python3.6/dist-packages/scipy/stats/stats.py:1713: FutureWarning: Using a non-tuple sequence for multidimensional indexing is deprecated; use `arr[tuple(seq)]` instead of `arr[seq]`. In the future this will be interpreted as an array index, `arr[np.array(seq)]`, which will result either in an error or a different result.\n",
      "  return np.add.reduce(sorted[indexer] * weights, axis=axis) / sumval\n"
     ]
    },
    {
     "data": {
      "text/plain": [
       "<seaborn.axisgrid.JointGrid at 0x7f75c2d35668>"
      ]
     },
     "execution_count": 9,
     "metadata": {},
     "output_type": "execute_result"
    },
    {
     "data": {
      "image/png": "[encoded data removed]",
      "text/plain": [
       "<matplotlib.figure.Figure at 0x7f75c2d357f0>"
      ]
     },
     "metadata": {},
     "output_type": "display_data"
    }
   ],
   "source": [
    "seaborn.jointplot(data=data, x=\"stiffness\", y=\"acoustic1\", kind='reg')"
   ]
  },
  {
   "cell_type": "markdown",
   "metadata": {},
   "source": [
    "- Здесь точки разбросаны более хаотично, трудно провести линию регрессии, которая подходила бы большинству точек.\n",
    "- Поэтому и КК близок к нулю.\n",
    "- Значит здесь нет заметной статистической зависимости\n",
    "- Это подтверждается проверкой гипотезы о равенстве КК нулю: p-value > 0.05. Значит нет оснований отклонить нулевую гипотезу $H_0: r=0$"
   ]
  },
  {
   "cell_type": "markdown",
   "metadata": {},
   "source": [
    "## Регрессионный анализ\n",
    "**Регрессионный анализ** — статистический метод исследования влияния одной или нескольких независимых переменных $X_1 , X_2 , ... , X_n$ на зависимую переменную Y.\n",
    "\n",
    "\n",
    "- найти функцию, которая отображает зависимость одних переменных или данных от других\n",
    "    - Y = f(x_1, x_2, ..., x_3)\n",
    "- функция строится на основе известных значений переменных\n",
    "- Регрессия полезна для прогнозирования ответа на новые условия\n",
    "\n",
    "\n",
    "\n",
    "\n",
    "\n",
    "Отличия регрессионного анализа от корреляционного:\n",
    "- в корреляционном анализе важен коэффициент корреляции\n",
    "- в регрессионном анализе важно уравнение регрессии, т.е. предсказание значений зависимой переменной"
   ]
  },
  {
   "cell_type": "code",
   "execution_count": 10,
   "metadata": {
    "scrolled": true
   },
   "outputs": [
    {
     "data": {
      "text/plain": [
       "LinregressResult(slope=-0.0005196861386681389, intercept=0.7918330758205965, rvalue=-0.8517819516525158, pvalue=1.2949461273609792e-07, stderr=6.814701350309186e-05)"
      ]
     },
     "execution_count": 10,
     "metadata": {},
     "output_type": "execute_result"
    }
   ],
   "source": [
    "linregress(data['airPerm'], data['acoustic1'])"
   ]
  },
  {
   "cell_type": "markdown",
   "metadata": {},
   "source": [
    "Уравнение будет иметь вид:\n",
    "$$ acoustic1 = slope \\cdot airPerm + intercept $$\n",
    "\n",
    "\n",
    "Теперь им можно пользоватся, чтобы предсказать *среднее* значение *acoustic1*, для заданного значения *airPerm* (и при фиксированых значениях остальных переменных)"
   ]
  },
  {
   "cell_type": "code",
   "execution_count": 11,
   "metadata": {},
   "outputs": [
    {
     "data": {
      "text/plain": [
       "0.2981312440858645"
      ]
     },
     "execution_count": 11,
     "metadata": {},
     "output_type": "execute_result"
    }
   ],
   "source": [
    "# например вычислим коэф. звукопоглощения1 (acoustic1)\n",
    "# для воздухопроницаемости airPerm 950 mm/s\n",
    "-0.0005196861386681389 * 950 + 0.7918330758205965"
   ]
  },
  {
   "cell_type": "code",
   "execution_count": 12,
   "metadata": {},
   "outputs": [
    {
     "name": "stderr",
     "output_type": "stream",
     "text": [
      "/usr/local/lib/python3.6/dist-packages/scipy/stats/stats.py:1713: FutureWarning: Using a non-tuple sequence for multidimensional indexing is deprecated; use `arr[tuple(seq)]` instead of `arr[seq]`. In the future this will be interpreted as an array index, `arr[np.array(seq)]`, which will result either in an error or a different result.\n",
      "  return np.add.reduce(sorted[indexer] * weights, axis=axis) / sumval\n"
     ]
    },
    {
     "data": {
      "image/png": "[encoded data removed]",
      "text/plain": [
       "<matplotlib.figure.Figure at 0x7f75aca44d68>"
      ]
     },
     "metadata": {},
     "output_type": "display_data"
    }
   ],
   "source": [
    "# построим диаграмму рассеивания и линию регрессии\n",
    "seaborn.jointplot(data['airPerm'], data['acoustic1'], kind='reg')\n",
    "\n",
    "# отметим предсказанное значение коэф. звукопоглощения\n",
    "plot(950, 0.2981312440858645, 'o')\n",
    "grid()"
   ]
  },
  {
   "cell_type": "markdown",
   "metadata": {},
   "source": [
    "# Пример 2\n",
    "\n",
    "Concrete Compressive Strength \n",
    "\n",
    "---------------------------------\n",
    "\n",
    "Data Type: multivariate\n",
    " \n",
    "Abstract: Concrete is the most important material in civil engineering. The \n",
    "concrete compressive strength is a highly nonlinear function of age and \n",
    "ingredients. These ingredients include cement, blast furnace slag, fly ash, \n",
    "water, superplasticizer, coarse aggregate, and fine aggregate.\n",
    "\n",
    "---------------------------------\n",
    "\n",
    "Sources: \n",
    "\n",
    "  Original Owner and Donor\n",
    "  Prof. I-Cheng Yeh\n",
    "  Department of Information Management \n",
    "  Chung-Hua University, \n",
    "  Hsin Chu, Taiwan 30067, R.O.C.\n",
    "  e-mail:icyeh@chu.edu.tw\n",
    "  TEL:886-3-5186511\n",
    "\n",
    "  Date Donated: August 3, 2007\n",
    " \n",
    "---------------------------------\n",
    "\n",
    "Data Characteristics:\n",
    "    \n",
    "The actual concrete compressive strength (MPa) for a given mixture under a \n",
    "specific age (days) was determined from laboratory. Data is in raw form (not scaled). \n",
    "\n",
    "Summary Statistics: \n",
    "\n",
    "Number of instances (observations): 1030\n",
    "Number of Attributes: 9\n",
    "Attribute breakdown: 8 quantitative input variables, and 1 quantitative output variable\n",
    "Missing Attribute Values: None\n",
    "\n",
    "---------------------------------\n",
    "\n",
    "Variable Information:\n",
    "\n",
    "Given is the variable name, variable type, the measurement unit and a brief description. \n",
    "The concrete compressive strength is the regression problem. The order of this listing \n",
    "corresponds to the order of numerals along the rows of the database. \n",
    "\n",
    "Name -- Data Type -- Measurement -- Description\n",
    "\n",
    "- Cement (component 1) -- quantitative -- kg in a m3 mixture -- Input Variable\n",
    "- Blast Furnace Slag (доменный шлак, component 2) -- quantitative -- kg in a m3 mixture -- Input Variable\n",
    "- Fly Ash (Летучая зола, component 3) -- quantitative -- kg in a m3 mixture -- Input Variable\n",
    "- Water (вода, component 4) -- quantitative -- kg in a m3 mixture -- Input Variable\n",
    "- Superplasticizer (component 5) -- quantitative -- kg in a m3 mixture -- Input Variable\n",
    "- Coarse Aggregate (заполнитель, component 6) -- quantitative -- kg in a m3 mixture -- Input Variable\n",
    "- Fine Aggregate (мелкий заполнитель, component 7) -- quantitative -- kg in a m3 mixture -- Input Variable\n",
    "- Age (время отведённое на завтердевание) -- quantitative -- Day (1~365) -- Input Variable\n",
    "- Concrete compressive strength (прочность на сжатие) -- quantitative -- MPa -- Output Variable \n",
    "\n",
    "---------------------------------\n",
    "\n",
    "Acknowledgements, Copyright Information, and Availability:\n",
    "\n",
    "NOTE: Reuse of this database is unlimited with retention of copyright notice for \n",
    "Prof. I-Cheng Yeh and the following published paper:\n",
    "\n",
    "I-Cheng Yeh, \"Modeling of strength of high performance concrete using artificial \n",
    "neural networks,\" Cement and Concrete Research, Vol. 28, No. 12, pp. 1797-1808 (1998)\n",
    "\n",
    "\n",
    "\n"
   ]
  },
  {
   "cell_type": "code",
   "execution_count": 13,
   "metadata": {},
   "outputs": [],
   "source": [
    "data2 = pd.read_csv(\"Concrete_Data.csv\", header=0, comment='#', delimiter=';')\n",
    "# здесь один столбец отделён от другого точкой с запятой (;), а не запятой, \n",
    "# поэтому чтобы данные загрузились корректно, укажем разделитель: delimiter=';'"
   ]
  },
  {
   "cell_type": "code",
   "execution_count": 14,
   "metadata": {},
   "outputs": [],
   "source": [
    "# названия столбцов очень длинные, поэтому заменим на короткие\n",
    "cols = data2.columns.values\n",
    "cols[0] = \"component1\"\n",
    "cols[1] = \"component2\"\n",
    "cols[2] = \"component3\"\n",
    "cols[3] = \"component4\"\n",
    "cols[4] = \"component5\"\n",
    "cols[5] = \"component6\"\n",
    "cols[6] = \"component7\"\n",
    "cols[7] = \"age\"\n",
    "cols[8] = \"strength\"\n",
    "data2.columns = cols"
   ]
  },
  {
   "cell_type": "code",
   "execution_count": 15,
   "metadata": {},
   "outputs": [],
   "source": [
    "# удалим последний столбец, он без данных\n",
    "data2 = data2.drop(columns=['Unnamed: 9'])"
   ]
  },
  {
   "cell_type": "code",
   "execution_count": 16,
   "metadata": {
    "scrolled": true
   },
   "outputs": [
    {
     "data": {
      "text/html": [
       "<div>\n",
       "<style scoped>\n",
       "    .dataframe tbody tr th:only-of-type {\n",
       "        vertical-align: middle;\n",
       "    }\n",
       "\n",
       "    .dataframe tbody tr th {\n",
       "        vertical-align: top;\n",
       "    }\n",
       "\n",
       "    .dataframe thead th {\n",
       "        text-align: right;\n",
       "    }\n",
       "</style>\n",
       "<table border=\"1\" class=\"dataframe\">\n",
       "  <thead>\n",
       "    <tr style=\"text-align: right;\">\n",
       "      <th></th>\n",
       "      <th>component1</th>\n",
       "      <th>component2</th>\n",
       "      <th>component3</th>\n",
       "      <th>component4</th>\n",
       "      <th>component5</th>\n",
       "      <th>component6</th>\n",
       "      <th>component7</th>\n",
       "      <th>age</th>\n",
       "      <th>strength</th>\n",
       "    </tr>\n",
       "  </thead>\n",
       "  <tbody>\n",
       "    <tr>\n",
       "      <th>0</th>\n",
       "      <td>540.0</td>\n",
       "      <td>0.0</td>\n",
       "      <td>0.0</td>\n",
       "      <td>162.0</td>\n",
       "      <td>2.5</td>\n",
       "      <td>1040.0</td>\n",
       "      <td>676.0</td>\n",
       "      <td>28</td>\n",
       "      <td>79.99</td>\n",
       "    </tr>\n",
       "    <tr>\n",
       "      <th>1</th>\n",
       "      <td>540.0</td>\n",
       "      <td>0.0</td>\n",
       "      <td>0.0</td>\n",
       "      <td>162.0</td>\n",
       "      <td>2.5</td>\n",
       "      <td>1055.0</td>\n",
       "      <td>676.0</td>\n",
       "      <td>28</td>\n",
       "      <td>61.89</td>\n",
       "    </tr>\n",
       "    <tr>\n",
       "      <th>2</th>\n",
       "      <td>332.5</td>\n",
       "      <td>142.5</td>\n",
       "      <td>0.0</td>\n",
       "      <td>228.0</td>\n",
       "      <td>0.0</td>\n",
       "      <td>932.0</td>\n",
       "      <td>594.0</td>\n",
       "      <td>270</td>\n",
       "      <td>40.27</td>\n",
       "    </tr>\n",
       "    <tr>\n",
       "      <th>3</th>\n",
       "      <td>332.5</td>\n",
       "      <td>142.5</td>\n",
       "      <td>0.0</td>\n",
       "      <td>228.0</td>\n",
       "      <td>0.0</td>\n",
       "      <td>932.0</td>\n",
       "      <td>594.0</td>\n",
       "      <td>365</td>\n",
       "      <td>41.05</td>\n",
       "    </tr>\n",
       "    <tr>\n",
       "      <th>4</th>\n",
       "      <td>198.6</td>\n",
       "      <td>132.4</td>\n",
       "      <td>0.0</td>\n",
       "      <td>192.0</td>\n",
       "      <td>0.0</td>\n",
       "      <td>978.4</td>\n",
       "      <td>825.5</td>\n",
       "      <td>360</td>\n",
       "      <td>44.30</td>\n",
       "    </tr>\n",
       "  </tbody>\n",
       "</table>\n",
       "</div>"
      ],
      "text/plain": [
       "   component1  component2  component3  component4  component5  component6  \\\n",
       "0       540.0         0.0         0.0       162.0         2.5      1040.0   \n",
       "1       540.0         0.0         0.0       162.0         2.5      1055.0   \n",
       "2       332.5       142.5         0.0       228.0         0.0       932.0   \n",
       "3       332.5       142.5         0.0       228.0         0.0       932.0   \n",
       "4       198.6       132.4         0.0       192.0         0.0       978.4   \n",
       "\n",
       "   component7  age  strength  \n",
       "0       676.0   28     79.99  \n",
       "1       676.0   28     61.89  \n",
       "2       594.0  270     40.27  \n",
       "3       594.0  365     41.05  \n",
       "4       825.5  360     44.30  "
      ]
     },
     "execution_count": 16,
     "metadata": {},
     "output_type": "execute_result"
    }
   ],
   "source": [
    "data2.head()"
   ]
  },
  {
   "cell_type": "code",
   "execution_count": 17,
   "metadata": {},
   "outputs": [
    {
     "name": "stdout",
     "output_type": "stream",
     "text": [
      "<class 'pandas.core.frame.DataFrame'>\n",
      "RangeIndex: 1030 entries, 0 to 1029\n",
      "Data columns (total 9 columns):\n",
      "component1    1030 non-null float64\n",
      "component2    1030 non-null float64\n",
      "component3    1030 non-null float64\n",
      "component4    1030 non-null float64\n",
      "component5    1030 non-null float64\n",
      "component6    1030 non-null float64\n",
      "component7    1030 non-null float64\n",
      "age           1030 non-null int64\n",
      "strength      1030 non-null float64\n",
      "dtypes: float64(8), int64(1)\n",
      "memory usage: 72.5 KB\n"
     ]
    }
   ],
   "source": [
    "data2.info()"
   ]
  },
  {
   "cell_type": "code",
   "execution_count": 18,
   "metadata": {},
   "outputs": [
    {
     "data": {
      "text/plain": [
       "<matplotlib.axes._subplots.AxesSubplot at 0x7f75ac8e3198>"
      ]
     },
     "execution_count": 18,
     "metadata": {},
     "output_type": "execute_result"
    },
    {
     "data": {
      "image/png": "[encoded data removed]",
      "text/plain": [
       "<matplotlib.figure.Figure at 0x7f75ac8ddba8>"
      ]
     },
     "metadata": {},
     "output_type": "display_data"
    }
   ],
   "source": [
    "figure( figsize=(10,10) )\n",
    "seaborn.heatmap( data2.corr(), cmap='coolwarm', annot = True )"
   ]
  },
  {
   "cell_type": "markdown",
   "metadata": {},
   "source": [
    "- Какие части бетонной смеси сильнее всего влияет на его прочность после застывания?\n",
    "- Где зависимость прямая, а где обратная?\n",
    "- Есть ли компоненты смеси, которые мало влияют на прочность?\n",
    "- Как влияет время застывания смеси на прочность бетона?\n",
    "- Как влияет количество воды в смеси на время застывания?"
   ]
  }
 ],
 "metadata": {
  "kernelspec": {
   "display_name": "Python 3",
   "language": "python",
   "name": "python3"
  },
  "language_info": {
   "codemirror_mode": {
    "name": "ipython",
    "version": 3
   },
   "file_extension": ".py",
   "mimetype": "text/x-python",
   "name": "python",
   "nbconvert_exporter": "python",
   "pygments_lexer": "ipython3",
   "version": "3.6.8"
  }
 },
 "nbformat": 4,
 "nbformat_minor": 2
}
