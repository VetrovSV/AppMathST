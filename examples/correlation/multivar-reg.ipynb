{
 "cells": [
  {
   "cell_type": "code",
   "execution_count": 79,
   "metadata": {},
   "outputs": [],
   "source": [
    "# установка библиотек\n",
    "# !pip install sklearn\n",
    "# !pip install scipy\n",
    "#!pip install seaborn"
   ]
  },
  {
   "cell_type": "code",
   "execution_count": 4,
   "metadata": {},
   "outputs": [],
   "source": [
    "# подключение необходимых библиотек\n",
    "from sklearn import linear_model\n",
    "import numpy as np\n",
    "\n",
    "from scipy.stats import pearsonr\n",
    "#import seaborn"
   ]
  },
  {
   "cell_type": "code",
   "execution_count": 5,
   "metadata": {},
   "outputs": [
    {
     "data": {
      "text/plain": [
       "LinearRegression(copy_X=True, fit_intercept=True, n_jobs=1, normalize=False)"
      ]
     },
     "execution_count": 5,
     "metadata": {},
     "output_type": "execute_result"
    }
   ],
   "source": [
    "# задание иксов - двумерный массив.\n",
    "# x1 - первый столбец, x2 - второй столбец и т.д\n",
    "# для примера взяты случайные числа\n",
    "# объём выборки - 30 элементов (строк)\n",
    "\n",
    "x = np.array([[34.92936742,  7.98349832, 97.80160879, 85.46764662],\n",
    "       [32.63921263, 50.73287081, 55.67302694, 63.05747896],\n",
    "       [46.72788077, 50.43879405, 40.01162268, 42.17610393],\n",
    "       [86.84573374, 66.77429379, 33.05048926, 53.46967138],\n",
    "       [12.97589339, 58.68833902, 80.7027337 , 11.82115068],\n",
    "       [82.40900842, 85.27988962, 59.22490509, 59.32385429],\n",
    "       [79.99088397,  8.40201079, 61.05786324,  5.44363563],\n",
    "       [35.07824122, 41.51445571, 56.94820992, 64.87094119],\n",
    "       [23.24661153, 17.41146655, 15.39180062, 57.31989222],\n",
    "       [65.41563805, 83.4534294 , 20.43266023, 10.40942717],\n",
    "       [ 4.80475156, 37.44892583,  0.84919028, 17.06361212],\n",
    "       [99.0675275 , 32.0132231 , 21.64496779, 85.82513532],\n",
    "       [67.88130639, 89.42707592, 78.98258011, 17.14347141],\n",
    "       [25.30909249, 62.54567099, 50.48100437,  7.25112004],\n",
    "       [55.31032076, 87.75760319, 95.41122743, 18.15428723],\n",
    "       [92.29829594, 86.0365853 , 77.52501972, 69.94388878],\n",
    "       [71.15101056, 69.5064989 , 32.36465328, 54.07575496],\n",
    "       [93.81127408, 79.28645966, 72.87496118, 71.04137687],\n",
    "       [ 6.9351043 , 64.19284538, 27.48084438, 18.76945571],\n",
    "       [23.56098088, 89.84002283, 56.38296068, 72.02376112],\n",
    "       [ 5.39651864,  5.20876626, 14.06641307, 97.51071988],\n",
    "       [86.71915785, 59.39499172, 69.49072637, 48.63676737],\n",
    "       [66.50047314,  3.45372372, 97.27819998, 91.42877441],\n",
    "       [91.81603652, 54.75822596, 17.73648165, 39.48688266],\n",
    "       [19.16629266, 95.18608528, 91.62312494, 58.39848222],\n",
    "       [67.84474405, 92.68781518, 86.32099877, 41.38283058],\n",
    "       [ 7.41590552, 38.05204806, 54.94065239, 85.59862295],\n",
    "       [ 9.86488852, 13.85259944, 15.35361164, 17.88568294],\n",
    "       [42.50620937, 69.1572641 , 52.19125136, 25.38788708],\n",
    "       [72.25255248, 54.29264925, 47.56740548, 37.98250037]])\n",
    "\n",
    "# задание игреков - одномерный массив\n",
    "\n",
    "y = np.array([50.4260844 , 97.13314426, 41.48640132, 51.29986203, 92.2344315 ,\n",
    "       81.06717161, 76.81755724, 28.14742411, 33.84613082, 20.24220197,\n",
    "       92.27376406, 99.91217919, 69.29245622, 42.57232511, 78.99563729,\n",
    "       69.10384888, 21.02463117, 19.30924377,  3.66177688,  1.27747803,\n",
    "       85.18261657, 65.12369309, 53.65666134, 79.38890871, 84.34927708,\n",
    "       44.72246265,  1.80450751, 86.76951995, 91.19709751, 71.57040561])\n",
    "\n",
    "# создание объекта для построения линейной регрессии\n",
    "reg = linear_model.LinearRegression()\n",
    "\n",
    "# построение уравнения линейной регрессии.\n",
    "# в объекте reg будет сохранено уравнение регрессии\n",
    "reg.fit( x, y )"
   ]
  },
  {
   "cell_type": "code",
   "execution_count": 82,
   "metadata": {},
   "outputs": [
    {
     "data": {
      "text/plain": [
       "array([ 0.1862102 , -0.33003302,  0.11458164, -0.29064437])"
      ]
     },
     "execution_count": 82,
     "metadata": {},
     "output_type": "execute_result"
    }
   ],
   "source": [
    "# коэффициенты перед иксами\n",
    "reg.coef_"
   ]
  },
  {
   "cell_type": "code",
   "execution_count": 83,
   "metadata": {},
   "outputs": [
    {
     "data": {
      "text/plain": [
       "74.42904667328622"
      ]
     },
     "execution_count": 83,
     "metadata": {},
     "output_type": "execute_result"
    }
   ],
   "source": [
    "# свободный член уравнения регрессии\n",
    "reg.intercept_"
   ]
  },
  {
   "cell_type": "markdown",
   "metadata": {},
   "source": [
    "Получается такое уравнение:\n",
    "\n",
    "$y =  0.1862102 x_1 -0.33003302 x_2 + 0.11458164 x_3 - 0.29064437 x_4 + 74.42904667706705$"
   ]
  },
  {
   "cell_type": "code",
   "execution_count": 84,
   "metadata": {},
   "outputs": [
    {
     "data": {
      "text/plain": [
       "array([69.93750286])"
      ]
     },
     "execution_count": 84,
     "metadata": {},
     "output_type": "execute_result"
    }
   ],
   "source": [
    "# подстановка четырёх иксов в полученное уравнение\n",
    "# ответ будет на экране\n",
    "reg.predict( [[11, 12, 13, 14]] )"
   ]
  },
  {
   "cell_type": "code",
   "execution_count": 85,
   "metadata": {},
   "outputs": [
    {
     "data": {
      "text/plain": [
       "0.11195854603039657"
      ]
     },
     "execution_count": 85,
     "metadata": {},
     "output_type": "execute_result"
    }
   ],
   "source": [
    "# оценка уравнения регрессии. вычисление коэффициента детерминации (от 0 до 1)\n",
    "# коф. детерминацияи - это коэф. корреляции (множественной для данного случая) возведённый в квадрат\n",
    "# чем ближе к 1 тем лучше\n",
    "reg.score(x,y)"
   ]
  },
  {
   "cell_type": "code",
   "execution_count": 86,
   "metadata": {},
   "outputs": [],
   "source": [
    "# оценка регрессии по средней абсолютной ошибке\n",
    "# вычислим игреки по уравнению\n",
    "y_pred = reg.predict(x)"
   ]
  },
  {
   "cell_type": "markdown",
   "metadata": {},
   "source": [
    "далее вычислим среднюю абсолтную ошибку:\n",
    "    \n",
    "$ \\frac{1}{n} \\sum | y_{истинное} - y_{предсказанное} |  $"
   ]
  },
  {
   "cell_type": "code",
   "execution_count": 87,
   "metadata": {},
   "outputs": [
    {
     "data": {
      "text/plain": [
       "25.192877411527103"
      ]
     },
     "execution_count": 87,
     "metadata": {},
     "output_type": "execute_result"
    }
   ],
   "source": [
    "np.mean( np.abs(y - y_pred) )"
   ]
  },
  {
   "cell_type": "markdown",
   "metadata": {},
   "source": [
    "## Линейный коэф. кор. между иксами и y"
   ]
  },
  {
   "cell_type": "code",
   "execution_count": 88,
   "metadata": {},
   "outputs": [
    {
     "data": {
      "text/plain": [
       "(0.10476248412590577, 0.581670961140817)"
      ]
     },
     "execution_count": 88,
     "metadata": {},
     "output_type": "execute_result"
    }
   ],
   "source": [
    "# линейный коэф. корреляции между Y и X1\n",
    "pearsonr(x[:,0],y)"
   ]
  },
  {
   "cell_type": "markdown",
   "metadata": {},
   "source": [
    "коэффициент корреляции: 0.10476248412590576\n",
    "\n",
    "p-value: 0.5816709611408178 - вероятность получить такой или более выраженный коэф. кор. в выборочных данных, когда в генеральной совокупности корреляция отсутствует (согласно документации, на p-value рекомендуется полагаться когда объём выборки >500)"
   ]
  },
  {
   "cell_type": "code",
   "execution_count": 89,
   "metadata": {},
   "outputs": [
    {
     "data": {
      "text/plain": [
       "(-0.1612143305849406, 0.3947281754718861)"
      ]
     },
     "execution_count": 89,
     "metadata": {},
     "output_type": "execute_result"
    }
   ],
   "source": [
    "pearsonr(x[:,1],y)"
   ]
  },
  {
   "cell_type": "code",
   "execution_count": 90,
   "metadata": {},
   "outputs": [
    {
     "data": {
      "text/plain": [
       "(0.01403733224125381, 0.9413110791226587)"
      ]
     },
     "execution_count": 90,
     "metadata": {},
     "output_type": "execute_result"
    }
   ],
   "source": [
    "pearsonr(x[:,2],y)"
   ]
  },
  {
   "cell_type": "code",
   "execution_count": 91,
   "metadata": {},
   "outputs": [
    {
     "data": {
      "text/plain": [
       "(-0.15006577197913845, 0.4286429937955012)"
      ]
     },
     "execution_count": 91,
     "metadata": {},
     "output_type": "execute_result"
    }
   ],
   "source": [
    "pearsonr(x[:,3],y)"
   ]
  },
  {
   "cell_type": "code",
   "execution_count": 92,
   "metadata": {
    "scrolled": true
   },
   "outputs": [
    {
     "name": "stdout",
     "output_type": "stream",
     "text": [
      "Help on function pearsonr in module scipy.stats.stats:\n",
      "\n",
      "pearsonr(x, y)\n",
      "    Calculate a Pearson correlation coefficient and the p-value for testing\n",
      "    non-correlation.\n",
      "    \n",
      "    The Pearson correlation coefficient measures the linear relationship\n",
      "    between two datasets. Strictly speaking, Pearson's correlation requires\n",
      "    that each dataset be normally distributed, and not necessarily zero-mean.\n",
      "    Like other correlation coefficients, this one varies between -1 and +1\n",
      "    with 0 implying no correlation. Correlations of -1 or +1 imply an exact\n",
      "    linear relationship. Positive correlations imply that as x increases, so\n",
      "    does y. Negative correlations imply that as x increases, y decreases.\n",
      "    \n",
      "    The p-value roughly indicates the probability of an uncorrelated system\n",
      "    producing datasets that have a Pearson correlation at least as extreme\n",
      "    as the one computed from these datasets. The p-values are not entirely\n",
      "    reliable but are probably reasonable for datasets larger than 500 or so.\n",
      "    \n",
      "    Parameters\n",
      "    ----------\n",
      "    x : (N,) array_like\n",
      "        Input\n",
      "    y : (N,) array_like\n",
      "        Input\n",
      "    \n",
      "    Returns\n",
      "    -------\n",
      "    r : float\n",
      "        Pearson's correlation coefficient\n",
      "    p-value : float\n",
      "        2-tailed p-value\n",
      "    \n",
      "    Notes\n",
      "    -----\n",
      "    \n",
      "    The correlation coefficient is calculated as follows:\n",
      "    \n",
      "    .. math::\n",
      "    \n",
      "        r_{pb} = \\frac{\\sum (x - m_x) (y - m_y)\n",
      "                       }{\\sqrt{\\sum (x - m_x)^2 (y - m_y)^2}}\n",
      "    \n",
      "    where :math:`m_x` is the mean of the vector :math:`x` and :math:`m_y` is\n",
      "    the mean of the vector :math:`y`.\n",
      "    \n",
      "    \n",
      "    References\n",
      "    ----------\n",
      "    http://www.statsoft.com/textbook/glosp.html#Pearson%20Correlation\n",
      "    \n",
      "    Examples\n",
      "    --------\n",
      "    >>> from scipy import stats\n",
      "    >>> a = np.array([0, 0, 0, 1, 1, 1, 1])\n",
      "    >>> b = np.arange(7)\n",
      "    >>> stats.pearsonr(a, b)\n",
      "    (0.8660254037844386, 0.011724811003954654)\n",
      "    \n",
      "    >>> stats.pearsonr([1,2,3,4,5], [5,6,7,8,7])\n",
      "    (0.83205029433784372, 0.080509573298498519)\n",
      "\n"
     ]
    }
   ],
   "source": [
    "# документация по функции perasonr\n",
    "help(pearsonr)"
   ]
  },
  {
   "cell_type": "markdown",
   "metadata": {},
   "source": [
    "## Матрица корреляции \n",
    "Корреляция всех со всеми"
   ]
  },
  {
   "cell_type": "code",
   "execution_count": 93,
   "metadata": {},
   "outputs": [],
   "source": [
    "# доплним матрицу из иксов столбцом из y\n",
    "# результат запишем в переменную data\n",
    "data = np.insert(x, 4, values=y, axis=1)"
   ]
  },
  {
   "cell_type": "code",
   "execution_count": 94,
   "metadata": {},
   "outputs": [
    {
     "data": {
      "text/plain": [
       "array([[34.92936742,  7.98349832, 97.80160879, 85.46764662, 50.4260844 ],\n",
       "       [32.63921263, 50.73287081, 55.67302694, 63.05747896, 97.13314426],\n",
       "       [46.72788077, 50.43879405, 40.01162268, 42.17610393, 41.48640132],\n",
       "       [86.84573374, 66.77429379, 33.05048926, 53.46967138, 51.29986203],\n",
       "       [12.97589339, 58.68833902, 80.7027337 , 11.82115068, 92.2344315 ],\n",
       "       [82.40900842, 85.27988962, 59.22490509, 59.32385429, 81.06717161],\n",
       "       [79.99088397,  8.40201079, 61.05786324,  5.44363563, 76.81755724],\n",
       "       [35.07824122, 41.51445571, 56.94820992, 64.87094119, 28.14742411],\n",
       "       [23.24661153, 17.41146655, 15.39180062, 57.31989222, 33.84613082],\n",
       "       [65.41563805, 83.4534294 , 20.43266023, 10.40942717, 20.24220197],\n",
       "       [ 4.80475156, 37.44892583,  0.84919028, 17.06361212, 92.27376406],\n",
       "       [99.0675275 , 32.0132231 , 21.64496779, 85.82513532, 99.91217919],\n",
       "       [67.88130639, 89.42707592, 78.98258011, 17.14347141, 69.29245622],\n",
       "       [25.30909249, 62.54567099, 50.48100437,  7.25112004, 42.57232511],\n",
       "       [55.31032076, 87.75760319, 95.41122743, 18.15428723, 78.99563729],\n",
       "       [92.29829594, 86.0365853 , 77.52501972, 69.94388878, 69.10384888],\n",
       "       [71.15101056, 69.5064989 , 32.36465328, 54.07575496, 21.02463117],\n",
       "       [93.81127408, 79.28645966, 72.87496118, 71.04137687, 19.30924377],\n",
       "       [ 6.9351043 , 64.19284538, 27.48084438, 18.76945571,  3.66177688],\n",
       "       [23.56098088, 89.84002283, 56.38296068, 72.02376112,  1.27747803],\n",
       "       [ 5.39651864,  5.20876626, 14.06641307, 97.51071988, 85.18261657],\n",
       "       [86.71915785, 59.39499172, 69.49072637, 48.63676737, 65.12369309],\n",
       "       [66.50047314,  3.45372372, 97.27819998, 91.42877441, 53.65666134],\n",
       "       [91.81603652, 54.75822596, 17.73648165, 39.48688266, 79.38890871],\n",
       "       [19.16629266, 95.18608528, 91.62312494, 58.39848222, 84.34927708],\n",
       "       [67.84474405, 92.68781518, 86.32099877, 41.38283058, 44.72246265],\n",
       "       [ 7.41590552, 38.05204806, 54.94065239, 85.59862295,  1.80450751],\n",
       "       [ 9.86488852, 13.85259944, 15.35361164, 17.88568294, 86.76951995],\n",
       "       [42.50620937, 69.1572641 , 52.19125136, 25.38788708, 91.19709751],\n",
       "       [72.25255248, 54.29264925, 47.56740548, 37.98250037, 71.57040561]])"
      ]
     },
     "execution_count": 94,
     "metadata": {},
     "output_type": "execute_result"
    }
   ],
   "source": [
    "# выведем данные\n",
    "data"
   ]
  },
  {
   "cell_type": "code",
   "execution_count": 95,
   "metadata": {},
   "outputs": [
    {
     "data": {
      "text/plain": [
       "array([[ 1.        ,  0.26837166,  0.18521147,  0.08886629,  0.10476248],\n",
       "       [ 0.26837166,  1.        ,  0.28665881, -0.26393303, -0.16121433],\n",
       "       [ 0.18521147,  0.28665881,  1.        ,  0.14287257,  0.01403733],\n",
       "       [ 0.08886629, -0.26393303,  0.14287257,  1.        , -0.15006577],\n",
       "       [ 0.10476248, -0.16121433,  0.01403733, -0.15006577,  1.        ]])"
      ]
     },
     "execution_count": 95,
     "metadata": {},
     "output_type": "execute_result"
    }
   ],
   "source": [
    "# матрица корреляции каждой величины с каждой\n",
    "np.corrcoef(data.T)\n",
    "# первая строка - коэф. кор. x1 c велечинами x1, x2, x3, x4 и y\n",
    "# вторая строка - коэф. кор. x2 c велечинами x1, x2, x3, x4 и y\n",
    "# и т.д."
   ]
  },
  {
   "cell_type": "code",
   "execution_count": 1,
   "metadata": {},
   "outputs": [],
   "source": [
    "from factor_analyzer import FactorAnalyzer"
   ]
  },
  {
   "cell_type": "code",
   "execution_count": 2,
   "metadata": {},
   "outputs": [],
   "source": [
    "fa = FactorAnalyzer()"
   ]
  },
  {
   "cell_type": "code",
   "execution_count": 6,
   "metadata": {},
   "outputs": [
    {
     "data": {
      "text/plain": [
       "FactorAnalyzer(bounds=(0.005, 1), impute='median', is_corr_matrix=False,\n",
       "        method='minres', n_factors=3, rotation='promax',\n",
       "        rotation_kwargs={}, use_smc=True)"
      ]
     },
     "execution_count": 6,
     "metadata": {},
     "output_type": "execute_result"
    }
   ],
   "source": [
    "fa.fit(x)"
   ]
  },
  {
   "cell_type": "code",
   "execution_count": 8,
   "metadata": {},
   "outputs": [
    {
     "data": {
      "text/plain": [
       "(array([1.49915276, 1.18934779, 0.81530867, 0.49619078]),\n",
       " array([ 0.92270082,  0.68970764,  0.23318143, -0.05838853]))"
      ]
     },
     "execution_count": 8,
     "metadata": {},
     "output_type": "execute_result"
    }
   ],
   "source": [
    "fa.get_eigenvalues()"
   ]
  },
  {
   "cell_type": "code",
   "execution_count": null,
   "metadata": {},
   "outputs": [],
   "source": []
  }
 ],
 "metadata": {
  "kernelspec": {
   "display_name": "Python 3",
   "language": "python",
   "name": "python3"
  },
  "language_info": {
   "codemirror_mode": {
    "name": "ipython",
    "version": 3
   },
   "file_extension": ".py",
   "mimetype": "text/x-python",
   "name": "python",
   "nbconvert_exporter": "python",
   "pygments_lexer": "ipython3",
   "version": "3.8.5"
  }
 },
 "nbformat": 4,
 "nbformat_minor": 2
}
