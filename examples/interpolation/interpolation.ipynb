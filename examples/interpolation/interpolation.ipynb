{
 "cells": [
  {
   "cell_type": "code",
   "execution_count": 11,
   "metadata": {},
   "outputs": [],
   "source": [
    "from scipy import interpolate    # для интерполяции\n",
    "from matplotlib.pyplot import *  # для графиков\n",
    "\n",
    "import numpy as np"
   ]
  },
  {
   "cell_type": "markdown",
   "metadata": {},
   "source": [
    "Пусть функция $ f(x) $ задана таблично:\n",
    "\n",
    "\n",
    "| x  | 0 | 1      | 2      | 3       | 4       | 5       | 6       |\n",
    "|----|---|--------|--------|---------|---------|---------|---------|\n",
    "|f(x)| 0 | 0.8415 | 0.9093 | 0.1411  | -0.7568 | -0.9589 | -0.2794 |\n",
    "\n",
    "\n",
    "Такие данные могли быть получены например в результате проведения эксперимента, в котором было измерено две величины: x и y=f(x). Известно, что эти величины взаимосвязаны, но точная формула неизвестна"
   ]
  },
  {
   "cell_type": "code",
   "execution_count": 12,
   "metadata": {},
   "outputs": [],
   "source": [
    "# для начала запишем эти данные в переменные:\n",
    "X = [0, 1,       2,      3,       4,       5,       6]\n",
    "Y = [0, 0.8415,  0.9093, 0.1411, -0.7568, -0.9589, -0.2794]"
   ]
  },
  {
   "cell_type": "code",
   "execution_count": 13,
   "metadata": {},
   "outputs": [
    {
     "data": {
      "image/png": "[encoded data removed]",
      "text/plain": [
       "<matplotlib.figure.Figure at 0x7f9da1bc9358>"
      ]
     },
     "metadata": {},
     "output_type": "display_data"
    }
   ],
   "source": [
    "# Потом построим график по точкам\n",
    "\n",
    "figure( figsize=(7,5) )  # размер изображения\n",
    "plot(X,Y, 'o')   # построить график из точек\n",
    "grid()           # изобразить сетку"
   ]
  },
  {
   "cell_type": "markdown",
   "metadata": {},
   "source": [
    "Какие значения будет принимать функция для значений x не приведённых в таблице? \n",
    "\n",
    "Например: чему равны  $f(0.5)$ или $f(3.1)$?\n",
    "\n",
    "Процесс определения значения таблично заданной функции на интервалах *внутри* заданного таблицей диапазона называется **интерполированием**.\n",
    "\n",
    "Пару значения аргумента - значение функции называют **узлом интерполяции**\n",
    "\n",
    "Один из самых простых способов интерполирования - *линейное интерполирование*. Точки с известными значениями просто соединяются прямой."
   ]
  },
  {
   "cell_type": "markdown",
   "metadata": {},
   "source": [
    "**Аппроксимация** - (от лат. proxima — ближайшая) или приближение — научный метод, состоящий в замене одних объектов другими, в каком-то смысле близкими к исходным, но более простыми. \n",
    "\n",
    "**Экстраполяция**, экстраполирование (от лат. extrā — вне, снаружи, за, кроме и лат. polire — приглаживаю, выправляю, изменяю, меняю[1]) — особый тип аппроксимации, при котором функция аппроксимируется вне заданного интервала, а не между заданными значениями. "
   ]
  },
  {
   "cell_type": "code",
   "execution_count": 14,
   "metadata": {},
   "outputs": [
    {
     "data": {
      "image/png": "[encoded data removed]",
      "text/plain": [
       "<matplotlib.figure.Figure at 0x7f9d9fb49a58>"
      ]
     },
     "metadata": {},
     "output_type": "display_data"
    }
   ],
   "source": [
    "# построим график для такого способа интерполяции просто соеденив точки прямыми\n",
    "\n",
    "figure( figsize=(7,5) )  # размер изображения\n",
    "plot(X,Y, 'o-')   # построить график из точек\n",
    "grid()           # изобразить сетку"
   ]
  },
  {
   "cell_type": "markdown",
   "metadata": {},
   "source": [
    "Интерполируем значение функции на участке между точками $( x 0 , f ( x 0 ) );  (x_1, f(x_1))$\n",
    "\n",
    "\n",
    "Для этого построим прямую, проходящую через эти две точки.\n",
    "\n",
    "Уравнение прямой:\n",
    "\n",
    "\n",
    "$$ \\frac {y-f(x_{0})} {f(x_{1})-f(x_{0})} = \\frac {x-x_{0}}{x_{1}-x_{0}}  $$\n"
   ]
  },
  {
   "cell_type": "code",
   "execution_count": 15,
   "metadata": {},
   "outputs": [
    {
     "data": {
      "text/plain": [
       "[0.420750000000000]"
      ]
     },
     "execution_count": 15,
     "metadata": {},
     "output_type": "execute_result"
    }
   ],
   "source": [
    "from sympy import symbols, solve     # для сивольных вычислений\n",
    "\n",
    "y = symbols('y')                     # задаётся переменная, значение которой нужно вычислить\n",
    "\n",
    "# Подставим две точки из таблицы: x0 = 0, f(x0) = 0, x1 = 1, f(x1) = 0.8415\n",
    "# и интерполируем значение функции в точке 0.5, т.е. найдём f(0.5)\n",
    "\n",
    "x = 0.5                              \n",
    "solve( (y - 0)/(0.8415 - 0) - (x - 0)/(1 - 0) )   # решение уравнения"
   ]
  },
  {
   "cell_type": "code",
   "execution_count": 16,
   "metadata": {
    "scrolled": false
   },
   "outputs": [
    {
     "name": "stdout",
     "output_type": "stream",
     "text": [
      "Help on class interp1d in module scipy.interpolate.interpolate:\n",
      "\n",
      "class interp1d(scipy.interpolate.polyint._Interpolator1D)\n",
      " |  Interpolate a 1-D function.\n",
      " |  \n",
      " |  `x` and `y` are arrays of values used to approximate some function f:\n",
      " |  ``y = f(x)``.  This class returns a function whose call method uses\n",
      " |  interpolation to find the value of new points.\n",
      " |  \n",
      " |  Note that calling `interp1d` with NaNs present in input values results in\n",
      " |  undefined behaviour.\n",
      " |  \n",
      " |  Parameters\n",
      " |  ----------\n",
      " |  x : (N,) array_like\n",
      " |      A 1-D array of real values.\n",
      " |  y : (...,N,...) array_like\n",
      " |      A N-D array of real values. The length of `y` along the interpolation\n",
      " |      axis must be equal to the length of `x`.\n",
      " |  kind : str or int, optional\n",
      " |      Specifies the kind of interpolation as a string\n",
      " |      ('linear', 'nearest', 'zero', 'slinear', 'quadratic', 'cubic',\n",
      " |      'previous', 'next', where 'zero', 'slinear', 'quadratic' and 'cubic'\n",
      " |      refer to a spline interpolation of zeroth, first, second or third\n",
      " |      order; 'previous' and 'next' simply return the previous or next value\n",
      " |      of the point) or as an integer specifying the order of the spline\n",
      " |      interpolator to use.\n",
      " |      Default is 'linear'.\n",
      " |  axis : int, optional\n",
      " |      Specifies the axis of `y` along which to interpolate.\n",
      " |      Interpolation defaults to the last axis of `y`.\n",
      " |  copy : bool, optional\n",
      " |      If True, the class makes internal copies of x and y.\n",
      " |      If False, references to `x` and `y` are used. The default is to copy.\n",
      " |  bounds_error : bool, optional\n",
      " |      If True, a ValueError is raised any time interpolation is attempted on\n",
      " |      a value outside of the range of x (where extrapolation is\n",
      " |      necessary). If False, out of bounds values are assigned `fill_value`.\n",
      " |      By default, an error is raised unless `fill_value=\"extrapolate\"`.\n",
      " |  fill_value : array-like or (array-like, array_like) or \"extrapolate\", optional\n",
      " |      - if a ndarray (or float), this value will be used to fill in for\n",
      " |        requested points outside of the data range. If not provided, then\n",
      " |        the default is NaN. The array-like must broadcast properly to the\n",
      " |        dimensions of the non-interpolation axes.\n",
      " |      - If a two-element tuple, then the first element is used as a\n",
      " |        fill value for ``x_new < x[0]`` and the second element is used for\n",
      " |        ``x_new > x[-1]``. Anything that is not a 2-element tuple (e.g.,\n",
      " |        list or ndarray, regardless of shape) is taken to be a single\n",
      " |        array-like argument meant to be used for both bounds as\n",
      " |        ``below, above = fill_value, fill_value``.\n",
      " |  \n",
      " |        .. versionadded:: 0.17.0\n",
      " |      - If \"extrapolate\", then points outside the data range will be\n",
      " |        extrapolated.\n",
      " |  \n",
      " |        .. versionadded:: 0.17.0\n",
      " |  assume_sorted : bool, optional\n",
      " |      If False, values of `x` can be in any order and they are sorted first.\n",
      " |      If True, `x` has to be an array of monotonically increasing values.\n",
      " |  \n",
      " |  Methods\n",
      " |  -------\n",
      " |  __call__\n",
      " |  \n",
      " |  See Also\n",
      " |  --------\n",
      " |  splrep, splev\n",
      " |      Spline interpolation/smoothing based on FITPACK.\n",
      " |  UnivariateSpline : An object-oriented wrapper of the FITPACK routines.\n",
      " |  interp2d : 2-D interpolation\n",
      " |  \n",
      " |  Examples\n",
      " |  --------\n",
      " |  >>> import matplotlib.pyplot as plt\n",
      " |  >>> from scipy import interpolate\n",
      " |  >>> x = np.arange(0, 10)\n",
      " |  >>> y = np.exp(-x/3.0)\n",
      " |  >>> f = interpolate.interp1d(x, y)\n",
      " |  \n",
      " |  >>> xnew = np.arange(0, 9, 0.1)\n",
      " |  >>> ynew = f(xnew)   # use interpolation function returned by `interp1d`\n",
      " |  >>> plt.plot(x, y, 'o', xnew, ynew, '-')\n",
      " |  >>> plt.show()\n",
      " |  \n",
      " |  Method resolution order:\n",
      " |      interp1d\n",
      " |      scipy.interpolate.polyint._Interpolator1D\n",
      " |      builtins.object\n",
      " |  \n",
      " |  Methods defined here:\n",
      " |  \n",
      " |  __init__(self, x, y, kind='linear', axis=-1, copy=True, bounds_error=None, fill_value=nan, assume_sorted=False)\n",
      " |      Initialize a 1D linear interpolation class.\n",
      " |  \n",
      " |  ----------------------------------------------------------------------\n",
      " |  Data descriptors defined here:\n",
      " |  \n",
      " |  __dict__\n",
      " |      dictionary for instance variables (if defined)\n",
      " |  \n",
      " |  __weakref__\n",
      " |      list of weak references to the object (if defined)\n",
      " |  \n",
      " |  fill_value\n",
      " |  \n",
      " |  ----------------------------------------------------------------------\n",
      " |  Methods inherited from scipy.interpolate.polyint._Interpolator1D:\n",
      " |  \n",
      " |  __call__(self, x)\n",
      " |      Evaluate the interpolant\n",
      " |      \n",
      " |      Parameters\n",
      " |      ----------\n",
      " |      x : array_like\n",
      " |          Points to evaluate the interpolant at.\n",
      " |      \n",
      " |      Returns\n",
      " |      -------\n",
      " |      y : array_like\n",
      " |          Interpolated values. Shape is determined by replacing\n",
      " |          the interpolation axis in the original array with the shape of x.\n",
      " |  \n",
      " |  ----------------------------------------------------------------------\n",
      " |  Data descriptors inherited from scipy.interpolate.polyint._Interpolator1D:\n",
      " |  \n",
      " |  dtype\n",
      "\n"
     ]
    }
   ],
   "source": [
    "# функция python для интерполяции\n",
    "help(interpolate.interp1d)"
   ]
  },
  {
   "cell_type": "code",
   "execution_count": 17,
   "metadata": {},
   "outputs": [],
   "source": [
    "func = interpolate.interp1d(X, Y, kind='linear')"
   ]
  },
  {
   "cell_type": "code",
   "execution_count": 18,
   "metadata": {},
   "outputs": [
    {
     "data": {
      "text/plain": [
       "array(0.42075)"
      ]
     },
     "execution_count": 18,
     "metadata": {},
     "output_type": "execute_result"
    }
   ],
   "source": [
    "func(0.5)"
   ]
  },
  {
   "cell_type": "code",
   "execution_count": 19,
   "metadata": {},
   "outputs": [
    {
     "data": {
      "text/plain": [
       "array(0.05131)"
      ]
     },
     "execution_count": 19,
     "metadata": {},
     "output_type": "execute_result"
    }
   ],
   "source": [
    "func(3.1)"
   ]
  },
  {
   "cell_type": "markdown",
   "metadata": {},
   "source": [
    "# Интерполяция многочленом\n",
    "\n",
    "- Линейная интерполяция в конце концов задаёт ломаную, однако зависимости между многими величинами - гладкие функции\n",
    "- Для того чтобы получить гладкую интерполирующую кривую можно помимо прочих способов использовать интерполяционный многочлен:\n",
    "\n",
    "$ f(x) = a_0 + a_1 x + a_2 x^2 + ... + a_n x^n $ \n",
    "\n",
    "- Однако стоит помнить, что многочлены больших порядков могут давать большую ошибку из-за осциляции"
   ]
  },
  {
   "cell_type": "markdown",
   "metadata": {},
   "source": [
    "# Cплайн интерполяция\n",
    "\n",
    "- Кроме того, можно интерполировать табличную функцию частями задавая отдельный каждый многочлне для каждого участка. Участками могут быть интервалы, на концах которых известны значения функции, то есть значения таблично заданной функции\n",
    "- Для кажого участка подбирается свой многочлен - это кусочно заданная функция\n",
    "- Порядок многочлена на каждом участке тоже может отличатся, но не должен превышать заданный\n",
    "- Такой способ интерполяции называется интерполяцией сплайном.\n",
    "\n",
    "TODO: картинка с википедии"
   ]
  },
  {
   "cell_type": "code",
   "execution_count": 20,
   "metadata": {},
   "outputs": [],
   "source": [
    "# построим кубический ( kind='cubic' ) многолен по табличным данным\n",
    "# функция interp1d построит многочлен для каждого участка табличных данных\n",
    "func_3 = interpolate.interp1d(X, Y, kind='cubic')"
   ]
  },
  {
   "cell_type": "code",
   "execution_count": 21,
   "metadata": {},
   "outputs": [
    {
     "data": {
      "text/plain": [
       "array(0.50194766)"
      ]
     },
     "execution_count": 21,
     "metadata": {},
     "output_type": "execute_result"
    }
   ],
   "source": [
    "# далее можно вычислить значения аппроксимирующей функции в промежуточных точках\n",
    "func_3(0.5)"
   ]
  },
  {
   "cell_type": "code",
   "execution_count": 22,
   "metadata": {},
   "outputs": [
    {
     "data": {
      "image/png": "[encoded data removed]",
      "text/plain": [
       "<matplotlib.figure.Figure at 0x7f9d9ec6dd30>"
      ]
     },
     "metadata": {},
     "output_type": "display_data"
    }
   ],
   "source": [
    "X1 = np.linspace(0, 6, 100) # создадим набор из 100 значений на отрезке от 0 до 6 (чтобы по ним потроить график)\n",
    "Y1 = func_3(X1)              \n",
    "\n",
    "figure( figsize=(7,5) )\n",
    "plot(X,  Y,   'o-', label = 'линейная интерполяция')\n",
    "plot(X1, Y1,        label = 'сплайн третьего порядка')\n",
    "legend()    # покажем подписи к графикам\n",
    "grid()"
   ]
  },
  {
   "cell_type": "markdown",
   "metadata": {},
   "source": [
    "### Другие способы интерполяции"
   ]
  },
  {
   "cell_type": "markdown",
   "metadata": {},
   "source": [
    "### Метод наименьших квадратов\n",
    "\n",
    "- Как по табличным данным построить интерполирующий многочлен?"
   ]
  },
  {
   "cell_type": "markdown",
   "metadata": {},
   "source": [
    "## Интерполирование vs регрессия\n",
    "- Стоит отметить, что уравнение регресии может быть не только прямой линией\n",
    "- при интреполировании интерполяционная функция должна строго соответствовать точкам\n",
    "- уравнение регресии должно как можно лучше соответствовать всем точкам, но может не удовлетворять им\n",
    "- Одному значению аргумента в данных, по которям строится уравнение регресии, может соответствовать несколько значений функции."
   ]
  }
 ],
 "metadata": {
  "kernelspec": {
   "display_name": "Python 3",
   "language": "python",
   "name": "python3"
  },
  "language_info": {
   "codemirror_mode": {
    "name": "ipython",
    "version": 3
   },
   "file_extension": ".py",
   "mimetype": "text/x-python",
   "name": "python",
   "nbconvert_exporter": "python",
   "pygments_lexer": "ipython3",
   "version": "3.6.8"
  }
 },
 "nbformat": 4,
 "nbformat_minor": 2
}
