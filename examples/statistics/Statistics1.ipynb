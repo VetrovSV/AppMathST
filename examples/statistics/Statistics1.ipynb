{
 "cells": [
  {
   "cell_type": "markdown",
   "metadata": {},
   "source": [
    "## Пример статистической обработки данных с помошью языка программирования в Python"
   ]
  },
  {
   "cell_type": "code",
   "execution_count": null,
   "metadata": {},
   "outputs": [],
   "source": [
    "# раскомментирвоть (убрать символ #) строки ниже для установки модулей в mybinder.org\n",
    "#!pip install scipy\n",
    "#!pip install seaborn"
   ]
  },
  {
   "cell_type": "code",
   "execution_count": 1,
   "metadata": {},
   "outputs": [],
   "source": [
    "# подключение модулей\n",
    "from scipy import stats  # статистика, распределения, ....\n",
    "import numpy as np  # вычисление числовых характеристик\n",
    "import seaborn  # построение графиков"
   ]
  },
  {
   "cell_type": "markdown",
   "metadata": {},
   "source": [
    "### Даны результаты испытаний образцов бетона\n",
    "\n",
    "https://www.raeng.org.uk/publications/other/6-concrete-testing (стр 4)\n",
    "\n",
    "$f_c$ - H/мм^2\n",
    "\n",
    "\n",
    "1. Определить среднюю прочность, стандартное отклонение\n",
    "1. Построить гистограмму распределения\n",
    "1. Построить диаграмму размаха. Проверить выбросы.\n",
    "1. Проверить гипотезу о нормальности распределения\n",
    "1. Определить 95% доверительный интервал для среднего значения (в предположении, что распределение нормальное)\n",
    "1. Определить прочность бетона с обеспеченностью 0.95\n",
    "\n",
    "\n"
   ]
  },
  {
   "cell_type": "code",
   "execution_count": 2,
   "metadata": {},
   "outputs": [],
   "source": [
    "# создадим список из измеренний прочности на сжатие (выборку)\n",
    "fc = [36.64, 40.96, 27.42, 24.10, 41.44, 34.94, 25.32, 41.14, 37.36, 31.64, 41.42, \n",
    "      37.53, 23.34, 36.43, 31.81, 33.65, 33.88, 38.19, 24.79, 24.81]"
   ]
  },
  {
   "cell_type": "code",
   "execution_count": 3,
   "metadata": {},
   "outputs": [
    {
     "data": {
      "text/plain": [
       "20"
      ]
     },
     "execution_count": 3,
     "metadata": {},
     "output_type": "execute_result"
    }
   ],
   "source": [
    "# количество занчений\n",
    "len(fc)"
   ]
  },
  {
   "cell_type": "code",
   "execution_count": 4,
   "metadata": {},
   "outputs": [
    {
     "data": {
      "text/plain": [
       "33.3405"
      ]
     },
     "execution_count": 4,
     "metadata": {},
     "output_type": "execute_result"
    }
   ],
   "source": [
    "# вычисление среднего\n",
    "np.mean(fc)"
   ]
  },
  {
   "cell_type": "code",
   "execution_count": 5,
   "metadata": {},
   "outputs": [
    {
     "data": {
      "text/plain": [
       "6.189766938261892"
      ]
     },
     "execution_count": 5,
     "metadata": {},
     "output_type": "execute_result"
    }
   ],
   "source": [
    "# стандартное отклонение\n",
    "np.std(fc)"
   ]
  },
  {
   "cell_type": "markdown",
   "metadata": {},
   "source": [
    "## Гистограмма"
   ]
  },
  {
   "cell_type": "code",
   "execution_count": 6,
   "metadata": {},
   "outputs": [
    {
     "name": "stderr",
     "output_type": "stream",
     "text": [
      "/usr/local/lib/python3.6/dist-packages/scipy/stats/stats.py:1713: FutureWarning: Using a non-tuple sequence for multidimensional indexing is deprecated; use `arr[tuple(seq)]` instead of `arr[seq]`. In the future this will be interpreted as an array index, `arr[np.array(seq)]`, which will result either in an error or a different result.\n",
      "  return np.add.reduce(sorted[indexer] * weights, axis=axis) / sumval\n"
     ]
    },
    {
     "data": {
      "text/plain": [
       "<matplotlib.axes._subplots.AxesSubplot at 0x7f78a511a400>"
      ]
     },
     "execution_count": 6,
     "metadata": {},
     "output_type": "execute_result"
    },
    {
     "data": {
      "image/png": "[encoded data removed]",
      "text/plain": [
       "<matplotlib.figure.Figure at 0x7f78a4a22780>"
      ]
     },
     "metadata": {},
     "output_type": "display_data"
    }
   ],
   "source": [
    "seaborn.distplot(fc)"
   ]
  },
  {
   "cell_type": "markdown",
   "metadata": {},
   "source": [
    "## Диаграмма размаха (ящик с усам)"
   ]
  },
  {
   "cell_type": "code",
   "execution_count": 7,
   "metadata": {},
   "outputs": [
    {
     "data": {
      "text/plain": [
       "<matplotlib.axes._subplots.AxesSubplot at 0x7f78a29708d0>"
      ]
     },
     "execution_count": 7,
     "metadata": {},
     "output_type": "execute_result"
    },
    {
     "data": {
      "image/png": "[encoded data removed]",
      "text/plain": [
       "<matplotlib.figure.Figure at 0x7f78a298e470>"
      ]
     },
     "metadata": {},
     "output_type": "display_data"
    }
   ],
   "source": [
    "seaborn.boxplot(fc)"
   ]
  },
  {
   "cell_type": "markdown",
   "metadata": {},
   "source": [
    "## Проверка гипотезы: выборка сделана из ген. совокупности распределённой по нормальному закону"
   ]
  },
  {
   "cell_type": "markdown",
   "metadata": {},
   "source": [
    "$H_0$: выборка сделана из нормально распределённой ген. совокупности\n",
    "\n",
    "см. спраку по функции normaltest: help( scipy.stats.normaltest )\n",
    "\n",
    "Проверка осуществляется по *p-value*. p-value -- упрощённо: вероятность ошибится отклонив нулевую гипотезу.\n",
    "\n",
    "Здесь и далее будем использовать уровень значимости α=0.05.\n",
    "\n",
    "Уровень значимости -- допустимая вероятность совершить ошибку, отклонив нулевую гипотезу.\n",
    "\n",
    "**Правило принятия нулевой гипотезы: **\n",
    "\n",
    "- Нулевая гипотеза принимается, если p-value > $\\alpha$\n",
    "\n",
    "- Нулевая гипотеза отклоняется и принимается альтернативная (противоположная нулевой) гипотеза если p-value < $\\alpha$"
   ]
  },
  {
   "cell_type": "code",
   "execution_count": 8,
   "metadata": {},
   "outputs": [
    {
     "data": {
      "text/plain": [
       "NormaltestResult(statistic=4.386007866389702, pvalue=0.11158106262267369)"
      ]
     },
     "execution_count": 8,
     "metadata": {},
     "output_type": "execute_result"
    }
   ],
   "source": [
    "stats.normaltest(fc)\n",
    "# здесь p-value > 0.05, поэтому принимаем нулевую гипотезу: \n",
    "# Выборка сделана из нормально распределённой генеральной совокупности"
   ]
  },
  {
   "cell_type": "markdown",
   "metadata": {},
   "source": [
    "Вывод: принимаем нулевую гипотезу"
   ]
  },
  {
   "cell_type": "markdown",
   "metadata": {},
   "source": [
    "## Определение параметров распределения\n",
    "\n",
    "- Распределение генеральной совкупности определено: нормальное распределение\n",
    "- Значит можем применять функцию плотности и функцию распределения именно этого закона\n",
    "\n",
    "$ f(x) = \\frac{1}{\\sigma \\sqrt{2\\pi}} e ^ {-\\frac{(x-\\mu)^2}{2\\sigma^2}} $\n",
    "\n",
    "$ F(x) = \\int \\limits_{-\\infty}^{x} f(x) dx $\n",
    "\n",
    "- Параметры распределения -- величины, входящие в функцию плотности (функцию распределения), кроме x\n",
    "\n",
    "- Вид кривой этого распределения зависит от двух параметров: \n",
    "    - Математического ожидания\n",
    "    - Стандартного отклонения\n",
    "- Эти параметры определены ранее\n",
    "- Теперь можно делать выводы основываясь на вышеприведённых данных, а не на эксперементальных (набор значений записанный в переменную fc)\n",
    "\n",
    "Функция плотности\n",
    "\n",
    "$ f(x) = \\frac{1}{6.19 \\sqrt{2\\pi}} e ^ {-\\frac{(x-33.34)^2}{2 \\cdot 6.19^2}} $\n"
   ]
  },
  {
   "attachments": {
    "image.png": {
     "image/png": "[encoded data removed]"
    }
   },
   "cell_type": "markdown",
   "metadata": {},
   "source": [
    "## Определение класса бетона по испытаниям\n",
    "Определим такое значение прочности бетона, что 95% образцов будет иметь прочность больше.\n",
    "На рисунке 95% образцов соответствует закрашеная площадь под кривой нормального распределения, а искомому значению - ордината левой границы заштрихованой области.\n",
    "\n",
    "![image.png](attachment:image.png)\n",
    "\n",
    "Искомое значение фактически определяется из уравнения $ 1 - F(x) = 0.95$,\n",
    "где $F(x)$  - функция распределения, $x$ - искомая величина\n",
    "\n"
   ]
  },
  {
   "cell_type": "code",
   "execution_count": 9,
   "metadata": {},
   "outputs": [
    {
     "data": {
      "text/plain": [
       "23.159239401615615"
      ]
     },
     "execution_count": 9,
     "metadata": {},
     "output_type": "execute_result"
    }
   ],
   "source": [
    "stats.norm.isf(0.95, scale=6.189766938261892, loc = 33.3405)"
   ]
  },
  {
   "cell_type": "markdown",
   "metadata": {},
   "source": [
    "Согласно таблице:\n",
    "\n",
    "\n",
    "23.16 Н/мм2 = 23.16 * 10000000 Па = 23.16МПа\n",
    "\n",
    "Значит бетон соответствует марке B22.5 \n",
    "\n",
    "[таблица](https://ru.wikipedia.org/wiki/%D0%91%D0%B5%D1%82%D0%BE%D0%BD#%D0%9F%D1%80%D0%BE%D1%87%D0%BD%D0%BE%D1%81%D1%82%D1%8C_%D0%BD%D0%B0_%D1%81%D0%B6%D0%B0%D1%82%D0%B8%D0%B5)"
   ]
  },
  {
   "cell_type": "markdown",
   "metadata": {},
   "source": [
    "## Вопросы\n",
    "1. Что такое выборка? Что такое генеральная совокупность?\n",
    "1. Какие числовые характеристики использовались для описания выборки?\n",
    "1. Как выборка была представлена графически?\n",
    "1. Какой закон распределения описывает генеральную совокупность?\n",
    "1. Что такое статистическая гипотеза?\n",
    "1. Что такое p-value?\n",
    "1. Как проверить статистическую гипотезу?\n",
    "1. Как вычислить некоторое значение случайной величины с заданной обеспеченностью?"
   ]
  }
 ],
 "metadata": {
  "kernelspec": {
   "display_name": "Python 3",
   "language": "python",
   "name": "python3"
  },
  "language_info": {
   "codemirror_mode": {
    "name": "ipython",
    "version": 3
   },
   "file_extension": ".py",
   "mimetype": "text/x-python",
   "name": "python",
   "nbconvert_exporter": "python",
   "pygments_lexer": "ipython3",
   "version": "3.8.5"
  }
 },
 "nbformat": 4,
 "nbformat_minor": 2
}
